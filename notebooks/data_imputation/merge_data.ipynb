{
 "cells": [
  {
   "cell_type": "markdown",
   "metadata": {},
   "source": [
    "# Merge Datasets\n",
    "\n",
    "### This file contains:\n",
    "- fixing tayara dataset \n",
    "- grouping the datsets in a single csv file"
   ]
  },
  {
   "cell_type": "code",
   "execution_count": 22,
   "metadata": {},
   "outputs": [],
   "source": [
    "import pandas as pd"
   ]
  },
  {
   "cell_type": "code",
   "execution_count": 15,
   "metadata": {},
   "outputs": [
    {
     "name": "stderr",
     "output_type": "stream",
     "text": [
      "C:\\Users\\rezgu\\AppData\\Local\\Temp\\ipykernel_24668\\2401867940.py:2: FutureWarning: Downcasting behavior in `replace` is deprecated and will be removed in a future version. To retain the old behavior, explicitly call `result.infer_objects(copy=False)`. To opt-in to the future behavior, set `pd.set_option('future.no_silent_downcasting', True)`\n",
      "  tayara = tayara.replace({'Yes': 1, 'yes':1,'1':1,'!Yes':1, 'No': 0 ,'Non':0, 'no':0 })\n"
     ]
    },
    {
     "data": {
      "text/html": [
       "<div>\n",
       "<style scoped>\n",
       "    .dataframe tbody tr th:only-of-type {\n",
       "        vertical-align: middle;\n",
       "    }\n",
       "\n",
       "    .dataframe tbody tr th {\n",
       "        vertical-align: top;\n",
       "    }\n",
       "\n",
       "    .dataframe thead th {\n",
       "        text-align: right;\n",
       "    }\n",
       "</style>\n",
       "<table border=\"1\" class=\"dataframe\">\n",
       "  <thead>\n",
       "    <tr style=\"text-align: right;\">\n",
       "      <th></th>\n",
       "      <th>Unnamed: 0</th>\n",
       "      <th>surface</th>\n",
       "      <th>region</th>\n",
       "      <th>rooms</th>\n",
       "      <th>bathrooms</th>\n",
       "      <th>parking</th>\n",
       "      <th>pool</th>\n",
       "      <th>vue_panoramique</th>\n",
       "      <th>jardin</th>\n",
       "      <th>climatisation</th>\n",
       "      <th>chauffage_central</th>\n",
       "      <th>ascenseur</th>\n",
       "      <th>price</th>\n",
       "    </tr>\n",
       "  </thead>\n",
       "  <tbody>\n",
       "    <tr>\n",
       "      <th>0</th>\n",
       "      <td>0</td>\n",
       "      <td>141.0</td>\n",
       "      <td>20</td>\n",
       "      <td>3</td>\n",
       "      <td>2</td>\n",
       "      <td>1</td>\n",
       "      <td>0</td>\n",
       "      <td>0</td>\n",
       "      <td>1</td>\n",
       "      <td>0</td>\n",
       "      <td>0</td>\n",
       "      <td>0</td>\n",
       "      <td>490000.0</td>\n",
       "    </tr>\n",
       "    <tr>\n",
       "      <th>1</th>\n",
       "      <td>1</td>\n",
       "      <td>100.0</td>\n",
       "      <td>20</td>\n",
       "      <td>2</td>\n",
       "      <td>1</td>\n",
       "      <td>1</td>\n",
       "      <td>0</td>\n",
       "      <td>0</td>\n",
       "      <td>0</td>\n",
       "      <td>1</td>\n",
       "      <td>1</td>\n",
       "      <td>0</td>\n",
       "      <td>380000.0</td>\n",
       "    </tr>\n",
       "    <tr>\n",
       "      <th>2</th>\n",
       "      <td>2</td>\n",
       "      <td>130.0</td>\n",
       "      <td>71</td>\n",
       "      <td>3</td>\n",
       "      <td>1</td>\n",
       "      <td>1</td>\n",
       "      <td>0</td>\n",
       "      <td>0</td>\n",
       "      <td>0</td>\n",
       "      <td>1</td>\n",
       "      <td>1</td>\n",
       "      <td>0</td>\n",
       "      <td>180000.0</td>\n",
       "    </tr>\n",
       "    <tr>\n",
       "      <th>3</th>\n",
       "      <td>3</td>\n",
       "      <td>120.0</td>\n",
       "      <td>8</td>\n",
       "      <td>2</td>\n",
       "      <td>1</td>\n",
       "      <td>0</td>\n",
       "      <td>0</td>\n",
       "      <td>0</td>\n",
       "      <td>0</td>\n",
       "      <td>0</td>\n",
       "      <td>0</td>\n",
       "      <td>0</td>\n",
       "      <td>240000.0</td>\n",
       "    </tr>\n",
       "    <tr>\n",
       "      <th>4</th>\n",
       "      <td>4</td>\n",
       "      <td>148.0</td>\n",
       "      <td>30</td>\n",
       "      <td>3</td>\n",
       "      <td>2</td>\n",
       "      <td>1</td>\n",
       "      <td>0</td>\n",
       "      <td>0</td>\n",
       "      <td>0</td>\n",
       "      <td>0</td>\n",
       "      <td>0</td>\n",
       "      <td>1</td>\n",
       "      <td>365000.0</td>\n",
       "    </tr>\n",
       "  </tbody>\n",
       "</table>\n",
       "</div>"
      ],
      "text/plain": [
       "   Unnamed: 0  surface  region  rooms  bathrooms  parking  pool  \\\n",
       "0           0    141.0      20      3          2        1     0   \n",
       "1           1    100.0      20      2          1        1     0   \n",
       "2           2    130.0      71      3          1        1     0   \n",
       "3           3    120.0       8      2          1        0     0   \n",
       "4           4    148.0      30      3          2        1     0   \n",
       "\n",
       "   vue_panoramique  jardin  climatisation  chauffage_central  ascenseur  \\\n",
       "0                0       1              0                  0          0   \n",
       "1                0       0              1                  1          0   \n",
       "2                0       0              1                  1          0   \n",
       "3                0       0              0                  0          0   \n",
       "4                0       0              0                  0          1   \n",
       "\n",
       "      price  \n",
       "0  490000.0  \n",
       "1  380000.0  \n",
       "2  180000.0  \n",
       "3  240000.0  \n",
       "4  365000.0  "
      ]
     },
     "execution_count": 15,
     "metadata": {},
     "output_type": "execute_result"
    }
   ],
   "source": [
    "tayara = pd.read_csv('../../data/raw/tayara.csv')\n",
    "tayara = tayara.replace({'Yes': 1, 'yes':1,'1':1,'!Yes':1, 'No': 0 ,'Non':0, 'no':0 })\n",
    "tayara.head()\n"
   ]
  },
  {
   "cell_type": "code",
   "execution_count": 16,
   "metadata": {},
   "outputs": [
    {
     "data": {
      "text/plain": [
       "Index(['surface', 'city', 'rooms', 'bathrooms', 'parking', 'pool',\n",
       "       'vue_panoramique', 'jardin', 'climatisation', 'chauffage_central',\n",
       "       'ascenseur', 'price'],\n",
       "      dtype='object')"
      ]
     },
     "execution_count": 16,
     "metadata": {},
     "output_type": "execute_result"
    }
   ],
   "source": [
    "tayara= tayara.rename(columns={'region':'city'})\n",
    "tayara=tayara.drop(\"Unnamed: 0\",axis=1)\n",
    "tayara.columns"
   ]
  },
  {
   "cell_type": "code",
   "execution_count": 17,
   "metadata": {},
   "outputs": [],
   "source": [
    "mubaweb=pd.read_csv('../../data/raw/mubaweb.csv')\n",
    "ds_clean=pd.read_csv('../../data/raw/dataset_clean.csv')\n",
    "pptc=pd.read_csv('../../data/raw/Property Prices in Tunisia_Cleaned.csv')\n",
    "tre=pd.read_csv('../../data/raw/tunisia-real-estate_final.csv')"
   ]
  },
  {
   "cell_type": "code",
   "execution_count": 18,
   "metadata": {},
   "outputs": [
    {
     "name": "stdout",
     "output_type": "stream",
     "text": [
      "[0 1]\n",
      "[1 0]\n",
      "[0 1]\n",
      "[1 0]\n",
      "[0 1]\n",
      "[0 1]\n",
      "[0 1]\n"
     ]
    }
   ],
   "source": [
    "print(tayara[\"vue_panoramique\"].unique())\n",
    "print(tayara[\"parking\"].unique())\n",
    "print(tayara[\"pool\"].unique())\n",
    "print(tayara[\"jardin\"].unique())\n",
    "print(tayara[\"climatisation\"].unique())\n",
    "print(tayara[\"chauffage_central\"].unique())\n",
    "print(tayara[\"ascenseur\"].unique())\n"
   ]
  },
  {
   "cell_type": "code",
   "execution_count": 19,
   "metadata": {},
   "outputs": [],
   "source": [
    "dfs = [tayara, mubaweb, ds_clean, pptc, tre]\n",
    "df=pd.concat(dfs, ignore_index=True)\n"
   ]
  },
  {
   "cell_type": "code",
   "execution_count": 20,
   "metadata": {},
   "outputs": [
    {
     "name": "stdout",
     "output_type": "stream",
     "text": [
      "[ 0.  1. nan]\n",
      "[ 1.  0. nan]\n",
      "[ 0.  1. nan]\n",
      "[ 1.  0. nan]\n",
      "[ 0.  1. nan]\n",
      "[ 0.  1. nan]\n",
      "[ 0.  1. nan]\n"
     ]
    }
   ],
   "source": [
    "print(df[\"vue_panoramique\"].unique())\n",
    "print(df[\"parking\"].unique())\n",
    "print(df[\"pool\"].unique())\n",
    "print(df[\"jardin\"].unique())\n",
    "print(df[\"climatisation\"].unique())\n",
    "print(df[\"chauffage_central\"].unique())\n",
    "print(df[\"ascenseur\"].unique())"
   ]
  },
  {
   "cell_type": "code",
   "execution_count": 25,
   "metadata": {},
   "outputs": [],
   "source": [
    "df.to_csv('../../data/raw/merged.csv', index=False)"
   ]
  }
 ],
 "metadata": {
  "kernelspec": {
   "display_name": "Housing_pricing",
   "language": "python",
   "name": "python3"
  },
  "language_info": {
   "codemirror_mode": {
    "name": "ipython",
    "version": 3
   },
   "file_extension": ".py",
   "mimetype": "text/x-python",
   "name": "python",
   "nbconvert_exporter": "python",
   "pygments_lexer": "ipython3",
   "version": "3.12.7"
  }
 },
 "nbformat": 4,
 "nbformat_minor": 2
}
