{
 "cells": [
  {
   "cell_type": "markdown",
   "metadata": {},
   "source": [
    "# TechnocasaDataset.csv Cleanup\n",
    "\n",
    "### This cleanup involves :\n",
    " - removing instances not in grand tunis\n",
    " - removing instances that are not appartments\n",
    " - removing instances that are not sale"
   ]
  },
  {
   "cell_type": "code",
   "execution_count": 2,
   "metadata": {},
   "outputs": [],
   "source": [
    "# Add necessary imports\n",
    "import pandas as pd"
   ]
  },
  {
   "cell_type": "code",
   "execution_count": 3,
   "metadata": {},
   "outputs": [],
   "source": [
    "def isFromGrandTunis(url):\n",
    "    return \"grand-tunis\" in url.lower()\n",
    "\n",
    "def isAppartment(url):\n",
    "    return \"appartement\" in url.lower()\n",
    "\n",
    "def isSale(url):\n",
    "    return \"vendre\" in url.lower()"
   ]
  },
  {
   "cell_type": "markdown",
   "metadata": {},
   "source": [
    "### 1. Load the data"
   ]
  },
  {
   "cell_type": "code",
   "execution_count": 4,
   "metadata": {},
   "outputs": [
    {
     "name": "stdout",
     "output_type": "stream",
     "text": [
      "Dataset We are Working With: TechnocasaDataset.csv\n",
      "Initial count: 518\n"
     ]
    }
   ],
   "source": [
    "file_path = 'C:\\\\Users\\\\mohamedanas.neji\\\\OneDrive - Medius\\\\Desktop\\\\Housing_pricing\\\\data\\\\raw\\\\TechnocasaDataset.csv'\n",
    "df = pd.read_csv(file_path)\n",
    "initial_count = df.shape[0]\n",
    "\n",
    "print(\"Dataset We are Working With: TechnocasaDataset.csv\")\n",
    "print (f\"Initial count: {initial_count}\")\n"
   ]
  },
  {
   "cell_type": "markdown",
   "metadata": {},
   "source": [
    "### 2. Remove housings not in grand tunis area"
   ]
  },
  {
   "cell_type": "code",
   "execution_count": 7,
   "metadata": {},
   "outputs": [
    {
     "name": "stdout",
     "output_type": "stream",
     "text": [
      "Count after city filter: 518\n"
     ]
    }
   ],
   "source": [
    "df = df[df[\"URL\"].apply(isFromGrandTunis)]\n",
    "count_after_city_filter = df.shape[0]\n",
    "print(f\"Count after city filter: {count_after_city_filter}\")"
   ]
  },
  {
   "cell_type": "markdown",
   "metadata": {},
   "source": [
    "### 3. Remove housings that are not appartments"
   ]
  },
  {
   "cell_type": "code",
   "execution_count": 8,
   "metadata": {},
   "outputs": [
    {
     "name": "stdout",
     "output_type": "stream",
     "text": [
      "Count after appartment filter: 222\n"
     ]
    }
   ],
   "source": [
    "df = df[df[\"URL\"].apply(isAppartment)]\n",
    "count_after_appartment_filter = df.shape[0]\n",
    "print(f\"Count after appartment filter: {count_after_appartment_filter}\")"
   ]
  },
  {
   "cell_type": "markdown",
   "metadata": {},
   "source": [
    "### 4. Remove appartments that are for rental"
   ]
  },
  {
   "cell_type": "code",
   "execution_count": 9,
   "metadata": {},
   "outputs": [
    {
     "name": "stdout",
     "output_type": "stream",
     "text": [
      "Final count: 222\n"
     ]
    }
   ],
   "source": [
    "df = df[df[\"URL\"].apply(isSale)]\n",
    "final_count = df.shape[0]\n",
    "print(f\"Final count: {final_count}\")"
   ]
  },
  {
   "cell_type": "markdown",
   "metadata": {},
   "source": [
    "### 5. Override the csv file content with the filtered data"
   ]
  },
  {
   "cell_type": "code",
   "execution_count": 11,
   "metadata": {},
   "outputs": [],
   "source": [
    "df.to_csv(file_path, index=False)"
   ]
  }
 ],
 "metadata": {
  "kernelspec": {
   "display_name": "base",
   "language": "python",
   "name": "python3"
  },
  "language_info": {
   "codemirror_mode": {
    "name": "ipython",
    "version": 3
   },
   "file_extension": ".py",
   "mimetype": "text/x-python",
   "name": "python",
   "nbconvert_exporter": "python",
   "pygments_lexer": "ipython3",
   "version": "3.11.7"
  }
 },
 "nbformat": 4,
 "nbformat_minor": 2
}
