{
 "cells": [
  {
   "cell_type": "markdown",
   "metadata": {},
   "source": [
    "# Tunisia Real Estate CSV - Second Cleanup\n",
    "\n",
    "### This cleanup involves reviewing the prices and surface area values of the apartments."
   ]
  },
  {
   "cell_type": "markdown",
   "metadata": {},
   "source": [
    "### Step 1: Load the data and inspect it"
   ]
  },
  {
   "cell_type": "code",
   "execution_count": 1,
   "metadata": {},
   "outputs": [
    {
     "data": {
      "text/html": [
       "<div>\n",
       "<style scoped>\n",
       "    .dataframe tbody tr th:only-of-type {\n",
       "        vertical-align: middle;\n",
       "    }\n",
       "\n",
       "    .dataframe tbody tr th {\n",
       "        vertical-align: top;\n",
       "    }\n",
       "\n",
       "    .dataframe thead th {\n",
       "        text-align: right;\n",
       "    }\n",
       "</style>\n",
       "<table border=\"1\" class=\"dataframe\">\n",
       "  <thead>\n",
       "    <tr style=\"text-align: right;\">\n",
       "      <th></th>\n",
       "      <th>Unnamed: 0</th>\n",
       "      <th>Governorate</th>\n",
       "      <th>Delegation</th>\n",
       "      <th>Locality</th>\n",
       "      <th>Nature</th>\n",
       "      <th>Type of Real Estate</th>\n",
       "      <th>Surface</th>\n",
       "      <th>Price</th>\n",
       "      <th>Inserted On</th>\n",
       "    </tr>\n",
       "  </thead>\n",
       "  <tbody>\n",
       "    <tr>\n",
       "      <th>0</th>\n",
       "      <td>0</td>\n",
       "      <td>tunis</td>\n",
       "      <td>sidi el bechir</td>\n",
       "      <td>Sidi El Bechir</td>\n",
       "      <td>Sale</td>\n",
       "      <td>2-room apartment</td>\n",
       "      <td>70.0</td>\n",
       "      <td>120000.0</td>\n",
       "      <td>06/10/2023</td>\n",
       "    </tr>\n",
       "    <tr>\n",
       "      <th>1</th>\n",
       "      <td>1</td>\n",
       "      <td>tunis</td>\n",
       "      <td>marsa</td>\n",
       "      <td>La Marsa</td>\n",
       "      <td>Sale</td>\n",
       "      <td>3-room apartment</td>\n",
       "      <td>130.0</td>\n",
       "      <td>277000.0</td>\n",
       "      <td>23/10/2023</td>\n",
       "    </tr>\n",
       "    <tr>\n",
       "      <th>2</th>\n",
       "      <td>2</td>\n",
       "      <td>ariana</td>\n",
       "      <td>ariana ville</td>\n",
       "      <td>Ariana Ville</td>\n",
       "      <td>Sale</td>\n",
       "      <td>2-room apartment</td>\n",
       "      <td>111.0</td>\n",
       "      <td>195000.0</td>\n",
       "      <td>09/11/2023</td>\n",
       "    </tr>\n",
       "    <tr>\n",
       "      <th>3</th>\n",
       "      <td>3</td>\n",
       "      <td>tunis</td>\n",
       "      <td>ettahrir</td>\n",
       "      <td>Ettahrir</td>\n",
       "      <td>Sale</td>\n",
       "      <td>5-room apartment and more</td>\n",
       "      <td>150.0</td>\n",
       "      <td>268000.0</td>\n",
       "      <td>13/11/2023</td>\n",
       "    </tr>\n",
       "    <tr>\n",
       "      <th>4</th>\n",
       "      <td>4</td>\n",
       "      <td>tunis</td>\n",
       "      <td>marsa</td>\n",
       "      <td>La Marsa</td>\n",
       "      <td>Sale</td>\n",
       "      <td>3-room apartment</td>\n",
       "      <td>134.0</td>\n",
       "      <td>340000.0</td>\n",
       "      <td>08/11/2023</td>\n",
       "    </tr>\n",
       "  </tbody>\n",
       "</table>\n",
       "</div>"
      ],
      "text/plain": [
       "   Unnamed: 0 Governorate      Delegation        Locality Nature  \\\n",
       "0           0       tunis  sidi el bechir  Sidi El Bechir   Sale   \n",
       "1           1       tunis           marsa        La Marsa   Sale   \n",
       "2           2      ariana    ariana ville    Ariana Ville   Sale   \n",
       "3           3       tunis        ettahrir        Ettahrir   Sale   \n",
       "4           4       tunis           marsa        La Marsa   Sale   \n",
       "\n",
       "         Type of Real Estate  Surface     Price Inserted On  \n",
       "0           2-room apartment     70.0  120000.0  06/10/2023  \n",
       "1           3-room apartment    130.0  277000.0  23/10/2023  \n",
       "2           2-room apartment    111.0  195000.0  09/11/2023  \n",
       "3  5-room apartment and more    150.0  268000.0  13/11/2023  \n",
       "4           3-room apartment    134.0  340000.0  08/11/2023  "
      ]
     },
     "execution_count": 1,
     "metadata": {},
     "output_type": "execute_result"
    }
   ],
   "source": [
    "import pandas as pd\n",
    "\n",
    "# Load the CSV file\n",
    "file_path = '../../data/raw/tunisia-real-estate.csv'  # Update this path with the actual file location\n",
    "data = pd.read_csv(file_path)\n",
    "\n",
    "# Display the first few rows to understand the structure\n",
    "data.head()"
   ]
  },
  {
   "cell_type": "markdown",
   "metadata": {},
   "source": [
    "### Step 2: Remove rows with surface value less than 20m²"
   ]
  },
  {
   "cell_type": "code",
   "execution_count": 2,
   "metadata": {},
   "outputs": [
    {
     "data": {
      "text/plain": [
       "(2424, 9)"
      ]
     },
     "execution_count": 2,
     "metadata": {},
     "output_type": "execute_result"
    }
   ],
   "source": [
    "# Convert 'Surface' to numeric\n",
    "data['Surface'] = pd.to_numeric(data['Surface'], errors='coerce')\n",
    "\n",
    "# Filter out rows with surface < 20\n",
    "filtered_data = data[data['Surface'] >= 20]\n",
    "\n",
    "# Check the shape of the filtered data\n",
    "filtered_data.shape"
   ]
  },
  {
   "cell_type": "markdown",
   "metadata": {},
   "source": [
    "### Step 3: Remove rows with price value less than 10,000 TND"
   ]
  },
  {
   "cell_type": "code",
   "execution_count": 3,
   "metadata": {},
   "outputs": [
    {
     "name": "stdout",
     "output_type": "stream",
     "text": [
      "(2416, 9)\n"
     ]
    }
   ],
   "source": [
    "# Ensure 'Price' is treated as numeric and modify it explicitly using .loc\n",
    "filtered_data.loc[:, 'Price'] = pd.to_numeric(filtered_data['Price'], errors='coerce')\n",
    "\n",
    "# Filter out rows with price < 10,000 TND\n",
    "filtered_data = filtered_data[filtered_data['Price'] >= 10000]\n",
    "\n",
    "# Check the shape of the filtered data\n",
    "print(filtered_data.shape)"
   ]
  },
  {
   "cell_type": "markdown",
   "metadata": {},
   "source": [
    "### Step 4: Display houses with price more than 1,000,000 TND"
   ]
  },
  {
   "cell_type": "code",
   "execution_count": 4,
   "metadata": {},
   "outputs": [
    {
     "data": {
      "text/html": [
       "<div>\n",
       "<style scoped>\n",
       "    .dataframe tbody tr th:only-of-type {\n",
       "        vertical-align: middle;\n",
       "    }\n",
       "\n",
       "    .dataframe tbody tr th {\n",
       "        vertical-align: top;\n",
       "    }\n",
       "\n",
       "    .dataframe thead th {\n",
       "        text-align: right;\n",
       "    }\n",
       "</style>\n",
       "<table border=\"1\" class=\"dataframe\">\n",
       "  <thead>\n",
       "    <tr style=\"text-align: right;\">\n",
       "      <th></th>\n",
       "      <th>Unnamed: 0</th>\n",
       "      <th>Governorate</th>\n",
       "      <th>Delegation</th>\n",
       "      <th>Locality</th>\n",
       "      <th>Nature</th>\n",
       "      <th>Type of Real Estate</th>\n",
       "      <th>Surface</th>\n",
       "      <th>Price</th>\n",
       "      <th>Inserted On</th>\n",
       "    </tr>\n",
       "  </thead>\n",
       "  <tbody>\n",
       "    <tr>\n",
       "      <th>43</th>\n",
       "      <td>43</td>\n",
       "      <td>tunis</td>\n",
       "      <td>ain zaghouan</td>\n",
       "      <td>Ain Zaghouan</td>\n",
       "      <td>Sale</td>\n",
       "      <td>3-room apartment</td>\n",
       "      <td>267.0</td>\n",
       "      <td>1250000.0</td>\n",
       "      <td>28/02/2023</td>\n",
       "    </tr>\n",
       "    <tr>\n",
       "      <th>44</th>\n",
       "      <td>44</td>\n",
       "      <td>tunis</td>\n",
       "      <td>menzah</td>\n",
       "      <td>El Menzah</td>\n",
       "      <td>Sale</td>\n",
       "      <td>5-room apartment and more</td>\n",
       "      <td>500.0</td>\n",
       "      <td>1800000.0</td>\n",
       "      <td>19/10/2023</td>\n",
       "    </tr>\n",
       "    <tr>\n",
       "      <th>66</th>\n",
       "      <td>66</td>\n",
       "      <td>tunis</td>\n",
       "      <td>ouerdia</td>\n",
       "      <td>El Ouerdia</td>\n",
       "      <td>Sale</td>\n",
       "      <td>3-room apartment</td>\n",
       "      <td>75.0</td>\n",
       "      <td>9500000.0</td>\n",
       "      <td>17/11/2023</td>\n",
       "    </tr>\n",
       "    <tr>\n",
       "      <th>99</th>\n",
       "      <td>99</td>\n",
       "      <td>ariana</td>\n",
       "      <td>soukra</td>\n",
       "      <td>La Soukra</td>\n",
       "      <td>Sale</td>\n",
       "      <td>3-room apartment</td>\n",
       "      <td>320.0</td>\n",
       "      <td>1250000.0</td>\n",
       "      <td>30/11/2023</td>\n",
       "    </tr>\n",
       "    <tr>\n",
       "      <th>131</th>\n",
       "      <td>131</td>\n",
       "      <td>ariana</td>\n",
       "      <td>soukra</td>\n",
       "      <td>La Soukra</td>\n",
       "      <td>Sale</td>\n",
       "      <td>1-room apartment</td>\n",
       "      <td>350.0</td>\n",
       "      <td>1450000.0</td>\n",
       "      <td>23/11/2023</td>\n",
       "    </tr>\n",
       "    <tr>\n",
       "      <th>...</th>\n",
       "      <td>...</td>\n",
       "      <td>...</td>\n",
       "      <td>...</td>\n",
       "      <td>...</td>\n",
       "      <td>...</td>\n",
       "      <td>...</td>\n",
       "      <td>...</td>\n",
       "      <td>...</td>\n",
       "      <td>...</td>\n",
       "    </tr>\n",
       "    <tr>\n",
       "      <th>2290</th>\n",
       "      <td>2290</td>\n",
       "      <td>tunis</td>\n",
       "      <td>marsa</td>\n",
       "      <td>La Marsa</td>\n",
       "      <td>Sale</td>\n",
       "      <td>5-room apartment and more</td>\n",
       "      <td>470.0</td>\n",
       "      <td>2200000.0</td>\n",
       "      <td>22/12/2023</td>\n",
       "    </tr>\n",
       "    <tr>\n",
       "      <th>2364</th>\n",
       "      <td>2364</td>\n",
       "      <td>tunis</td>\n",
       "      <td>marsa</td>\n",
       "      <td>La Marsa</td>\n",
       "      <td>Sale</td>\n",
       "      <td>1-room apartment</td>\n",
       "      <td>280.0</td>\n",
       "      <td>1500000.0</td>\n",
       "      <td>12/12/2023</td>\n",
       "    </tr>\n",
       "    <tr>\n",
       "      <th>2398</th>\n",
       "      <td>2398</td>\n",
       "      <td>tunis</td>\n",
       "      <td>marsa</td>\n",
       "      <td>La Marsa</td>\n",
       "      <td>Sale</td>\n",
       "      <td>3-room apartment</td>\n",
       "      <td>440.0</td>\n",
       "      <td>1200000.0</td>\n",
       "      <td>29/12/2023</td>\n",
       "    </tr>\n",
       "    <tr>\n",
       "      <th>2420</th>\n",
       "      <td>2420</td>\n",
       "      <td>ben arous</td>\n",
       "      <td>ezzahra</td>\n",
       "      <td>Ezzahra</td>\n",
       "      <td>Sale</td>\n",
       "      <td>2-room apartment</td>\n",
       "      <td>250.0</td>\n",
       "      <td>6500000.0</td>\n",
       "      <td>22/12/2023</td>\n",
       "    </tr>\n",
       "    <tr>\n",
       "      <th>2423</th>\n",
       "      <td>2423</td>\n",
       "      <td>tunis</td>\n",
       "      <td>menzah</td>\n",
       "      <td>El Menzah</td>\n",
       "      <td>Sale</td>\n",
       "      <td>5-room apartment and more</td>\n",
       "      <td>482.0</td>\n",
       "      <td>1100000.0</td>\n",
       "      <td>04/09/2023</td>\n",
       "    </tr>\n",
       "  </tbody>\n",
       "</table>\n",
       "<p>67 rows × 9 columns</p>\n",
       "</div>"
      ],
      "text/plain": [
       "      Unnamed: 0 Governorate    Delegation      Locality Nature  \\\n",
       "43            43       tunis  ain zaghouan  Ain Zaghouan   Sale   \n",
       "44            44       tunis        menzah     El Menzah   Sale   \n",
       "66            66       tunis       ouerdia    El Ouerdia   Sale   \n",
       "99            99      ariana        soukra     La Soukra   Sale   \n",
       "131          131      ariana        soukra     La Soukra   Sale   \n",
       "...          ...         ...           ...           ...    ...   \n",
       "2290        2290       tunis         marsa      La Marsa   Sale   \n",
       "2364        2364       tunis         marsa      La Marsa   Sale   \n",
       "2398        2398       tunis         marsa      La Marsa   Sale   \n",
       "2420        2420   ben arous       ezzahra       Ezzahra   Sale   \n",
       "2423        2423       tunis        menzah     El Menzah   Sale   \n",
       "\n",
       "            Type of Real Estate  Surface      Price Inserted On  \n",
       "43             3-room apartment    267.0  1250000.0  28/02/2023  \n",
       "44    5-room apartment and more    500.0  1800000.0  19/10/2023  \n",
       "66             3-room apartment     75.0  9500000.0  17/11/2023  \n",
       "99             3-room apartment    320.0  1250000.0  30/11/2023  \n",
       "131            1-room apartment    350.0  1450000.0  23/11/2023  \n",
       "...                         ...      ...        ...         ...  \n",
       "2290  5-room apartment and more    470.0  2200000.0  22/12/2023  \n",
       "2364           1-room apartment    280.0  1500000.0  12/12/2023  \n",
       "2398           3-room apartment    440.0  1200000.0  29/12/2023  \n",
       "2420           2-room apartment    250.0  6500000.0  22/12/2023  \n",
       "2423  5-room apartment and more    482.0  1100000.0  04/09/2023  \n",
       "\n",
       "[67 rows x 9 columns]"
      ]
     },
     "execution_count": 4,
     "metadata": {},
     "output_type": "execute_result"
    }
   ],
   "source": [
    "# Display rows with price > 1,000,000 TND\n",
    "high_price_houses = filtered_data[filtered_data['Price'] > 1000000]\n",
    "high_price_houses"
   ]
  },
  {
   "cell_type": "markdown",
   "metadata": {},
   "source": [
    "### Step 5: Remove rows with surface > 500m² and price > 2,000,000 TND"
   ]
  },
  {
   "cell_type": "markdown",
   "metadata": {},
   "source": [
    "Rows with surface values over 500m² and price values over 2,000,000 TND were removed because they are more likely to be villas or non-apartment properties. This project is focused exclusively on apartments, and such values represent outliers or data points irrelevant to the analysis."
   ]
  },
  {
   "cell_type": "code",
   "execution_count": 5,
   "metadata": {},
   "outputs": [
    {
     "data": {
      "text/plain": [
       "(2410, 9)"
      ]
     },
     "execution_count": 5,
     "metadata": {},
     "output_type": "execute_result"
    }
   ],
   "source": [
    "# Filter out rows with surface > 500m² or price > 2,000,000 TND\n",
    "final_data = filtered_data[(filtered_data['Surface'] <= 500) | (filtered_data['Price'] <= 2000000)]\n",
    "\n",
    "# Check the shape of the final dataset\n",
    "final_data.shape"
   ]
  },
  {
   "cell_type": "markdown",
   "metadata": {},
   "source": [
    "### Step 6: Save the cleaned dataset"
   ]
  },
  {
   "cell_type": "code",
   "execution_count": 6,
   "metadata": {},
   "outputs": [
    {
     "name": "stdout",
     "output_type": "stream",
     "text": [
      "Cleaned data has been saved and the original file has been overwritten: ../../data/raw/tunisia-real-estate.csv\n"
     ]
    }
   ],
   "source": [
    "# Save the cleaned dataset, overwriting the original file\n",
    "final_data.to_csv(file_path, index=False)\n",
    "\n",
    "print(f\"Cleaned data has been saved and the original file has been overwritten: {file_path}\")"
   ]
  }
 ],
 "metadata": {
  "kernelspec": {
   "display_name": "Python 3",
   "language": "python",
   "name": "python3"
  },
  "language_info": {
   "codemirror_mode": {
    "name": "ipython",
    "version": 3
   },
   "file_extension": ".py",
   "mimetype": "text/x-python",
   "name": "python",
   "nbconvert_exporter": "python",
   "pygments_lexer": "ipython3",
   "version": "3.11.4"
  }
 },
 "nbformat": 4,
 "nbformat_minor": 4
}
