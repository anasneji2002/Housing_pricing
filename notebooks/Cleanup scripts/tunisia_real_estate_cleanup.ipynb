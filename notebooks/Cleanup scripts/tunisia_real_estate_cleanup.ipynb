{
 "cells": [
  {
   "cell_type": "markdown",
   "metadata": {},
   "source": [
    "# tunisia-real-estate.csv Cleanup\n",
    "\n",
    "### This cleanup involves :\n",
    " - removing instances not in grand tunis\n",
    " - removing instances that are not appartments\n",
    " - removing instances that are not sale"
   ]
  },
  {
   "cell_type": "code",
   "execution_count": 1,
   "metadata": {},
   "outputs": [],
   "source": [
    "# Add necessary imports\n",
    "import pandas as pd"
   ]
  },
  {
   "cell_type": "code",
   "execution_count": 2,
   "metadata": {},
   "outputs": [],
   "source": [
    "def isFromGrandTunis(gouvernorat):\n",
    "    return gouvernorat.lower() in [\"tunis\", \"ariana\", \"ben_arous\", \"ben arous\", \"manouba\", \"la manouba\", \"la_manouba\"]\n",
    "\n",
    "def isAppartment(type):\n",
    "    return \"apartment\" in type\n",
    "\n",
    "def isSale(nature):\n",
    "    return nature.lower() == \"sale\""
   ]
  },
  {
   "cell_type": "markdown",
   "metadata": {},
   "source": [
    "### 1. Load the data"
   ]
  },
  {
   "cell_type": "code",
   "execution_count": 3,
   "metadata": {},
   "outputs": [
    {
     "name": "stdout",
     "output_type": "stream",
     "text": [
      "Dataset We are Working With: tunisia-real-estate.csv\n",
      "Initial count: 25317\n"
     ]
    }
   ],
   "source": [
    "file_path = 'C:\\\\Users\\\\mohamedanas.neji\\\\OneDrive - Medius\\\\Desktop\\\\Housing_pricing\\\\data\\\\raw\\\\tunisia-real-estate.csv'\n",
    "df = pd.read_csv(file_path)\n",
    "initial_count = df.shape[0]\n",
    "\n",
    "print(\"Dataset We are Working With: tunisia-real-estate.csv\")\n",
    "print (f\"Initial count: {initial_count}\")\n"
   ]
  },
  {
   "cell_type": "markdown",
   "metadata": {},
   "source": [
    "### 2. Remove housings not in grand tunis area"
   ]
  },
  {
   "cell_type": "code",
   "execution_count": 4,
   "metadata": {},
   "outputs": [
    {
     "name": "stdout",
     "output_type": "stream",
     "text": [
      "Count after city filter: 16136\n"
     ]
    }
   ],
   "source": [
    "df = df[df[\"Governorate\"].apply(isFromGrandTunis)]\n",
    "count_after_city_filter = df.shape[0]\n",
    "print(f\"Count after city filter: {count_after_city_filter}\")"
   ]
  },
  {
   "cell_type": "markdown",
   "metadata": {},
   "source": [
    "### 3. Remove housings that are not appartments"
   ]
  },
  {
   "cell_type": "code",
   "execution_count": 5,
   "metadata": {},
   "outputs": [
    {
     "name": "stdout",
     "output_type": "stream",
     "text": [
      "Count after appartment filter: 8620\n"
     ]
    }
   ],
   "source": [
    "df = df[df[\"Type of Real Estate\"].apply(isAppartment)]\n",
    "count_after_appartment_filter = df.shape[0]\n",
    "print(f\"Count after appartment filter: {count_after_appartment_filter}\")"
   ]
  },
  {
   "cell_type": "markdown",
   "metadata": {},
   "source": [
    "### 4. Remove appartments that are for rental"
   ]
  },
  {
   "cell_type": "code",
   "execution_count": null,
   "metadata": {},
   "outputs": [
    {
     "name": "stdout",
     "output_type": "stream",
     "text": [
      "Final count: 1873\n"
     ]
    }
   ],
   "source": [
    "df = df[df[\"Nature\"].apply(isSale)]\n",
    "final_count = df.shape[0]\n",
    "print(f\"Final count: {final_count}\")"
   ]
  },
  {
   "cell_type": "markdown",
   "metadata": {},
   "source": [
    "### 5. Override the csv file content with the filtered data"
   ]
  },
  {
   "cell_type": "code",
   "execution_count": 8,
   "metadata": {},
   "outputs": [],
   "source": [
    "df.to_csv(file_path, index=False)"
   ]
  }
 ],
 "metadata": {
  "kernelspec": {
   "display_name": "base",
   "language": "python",
   "name": "python3"
  },
  "language_info": {
   "codemirror_mode": {
    "name": "ipython",
    "version": 3
   },
   "file_extension": ".py",
   "mimetype": "text/x-python",
   "name": "python",
   "nbconvert_exporter": "python",
   "pygments_lexer": "ipython3",
   "version": "3.11.7"
  }
 },
 "nbformat": 4,
 "nbformat_minor": 2
}
