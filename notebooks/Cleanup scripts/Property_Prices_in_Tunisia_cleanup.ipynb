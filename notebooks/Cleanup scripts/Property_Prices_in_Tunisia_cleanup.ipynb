{
 "cells": [
  {
   "cell_type": "markdown",
   "metadata": {},
   "source": [
    "# Property Prices in Tunisia.csv Cleanup\n",
    "\n",
    "### This cleanup involves :\n",
    " - removing instances not in grand tunis\n",
    " - removing instances that are not appartments\n",
    " - removing instances that are not sale"
   ]
  },
  {
   "cell_type": "code",
   "execution_count": null,
   "metadata": {},
   "outputs": [],
   "source": [
    "# Add necessary imports\n",
    "import pandas as pd"
   ]
  },
  {
   "cell_type": "code",
   "execution_count": 10,
   "metadata": {},
   "outputs": [],
   "source": [
    "def isFromGrandTunis(city):\n",
    "    return city.lower() in [\"tunis\", \"ariana\", \"ben_arous\", \"ben arous\", \"manouba\", \"la manouba\", \"la_manouba\"]\n",
    "\n",
    "def isAppartment(category):\n",
    "    return category.lower() == \"appartements\"\n",
    "\n",
    "def isSale(type):\n",
    "    return type == \"À Vendre\""
   ]
  },
  {
   "cell_type": "markdown",
   "metadata": {},
   "source": [
    "### 1. Load the data"
   ]
  },
  {
   "cell_type": "code",
   "execution_count": 11,
   "metadata": {},
   "outputs": [
    {
     "name": "stdout",
     "output_type": "stream",
     "text": [
      "Dataset We are Working With: Property Prices in Tunisia.csv\n",
      "Initial count: 12748\n"
     ]
    }
   ],
   "source": [
    "file_path = 'C:\\\\Users\\\\mohamedanas.neji\\\\OneDrive - Medius\\\\Desktop\\\\Housing_pricing\\\\data\\\\raw\\\\Property Prices in Tunisia.csv'\n",
    "df = pd.read_csv(file_path)\n",
    "initial_count = df.shape[0]\n",
    "\n",
    "print(\"Dataset We are Working With: Property Prices in Tunisia.csv\")\n",
    "print (f\"Initial count: {initial_count}\")\n"
   ]
  },
  {
   "cell_type": "markdown",
   "metadata": {},
   "source": [
    "### 2. Remove housings not in grand tunis area"
   ]
  },
  {
   "cell_type": "code",
   "execution_count": 12,
   "metadata": {},
   "outputs": [
    {
     "name": "stdout",
     "output_type": "stream",
     "text": [
      "Count after city filter: 6568\n"
     ]
    }
   ],
   "source": [
    "df = df[df[\"city\"].apply(isFromGrandTunis)]\n",
    "count_after_city_filter = df.shape[0]\n",
    "print(f\"Count after city filter: {count_after_city_filter}\")"
   ]
  },
  {
   "cell_type": "markdown",
   "metadata": {},
   "source": [
    "### 3. Remove housings that are not appartments"
   ]
  },
  {
   "cell_type": "code",
   "execution_count": 13,
   "metadata": {},
   "outputs": [
    {
     "name": "stdout",
     "output_type": "stream",
     "text": [
      "Count after appartment filter: 2749\n"
     ]
    }
   ],
   "source": [
    "df = df[df[\"category\"].apply(isAppartment)]\n",
    "count_after_appartment_filter = df.shape[0]\n",
    "print(f\"Count after appartment filter: {count_after_appartment_filter}\")"
   ]
  },
  {
   "cell_type": "markdown",
   "metadata": {},
   "source": [
    "### 4. Remove appartments that are for rental"
   ]
  },
  {
   "cell_type": "code",
   "execution_count": 14,
   "metadata": {},
   "outputs": [
    {
     "name": "stdout",
     "output_type": "stream",
     "text": [
      "Final count: 1069\n"
     ]
    }
   ],
   "source": [
    "df = df[df[\"type\"].apply(isSale)]\n",
    "final_count = df.shape[0]\n",
    "print(f\"Final count: {final_count}\")"
   ]
  },
  {
   "cell_type": "markdown",
   "metadata": {},
   "source": [
    "### 5. Override the csv file content with the filtered data"
   ]
  },
  {
   "cell_type": "code",
   "execution_count": 15,
   "metadata": {},
   "outputs": [],
   "source": [
    "df.to_csv(file_path, index=False)"
   ]
  }
 ],
 "metadata": {
  "kernelspec": {
   "display_name": "base",
   "language": "python",
   "name": "python3"
  },
  "language_info": {
   "codemirror_mode": {
    "name": "ipython",
    "version": 3
   },
   "file_extension": ".py",
   "mimetype": "text/x-python",
   "name": "python",
   "nbconvert_exporter": "python",
   "pygments_lexer": "ipython3",
   "version": "3.11.7"
  }
 },
 "nbformat": 4,
 "nbformat_minor": 2
}
