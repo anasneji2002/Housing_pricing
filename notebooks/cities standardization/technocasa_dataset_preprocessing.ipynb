{
 "cells": [
  {
   "cell_type": "code",
   "execution_count": 3,
   "metadata": {},
   "outputs": [],
   "source": [
    "import pandas as pd"
   ]
  },
  {
   "cell_type": "markdown",
   "metadata": {},
   "source": [
    "### 1. Load the data"
   ]
  },
  {
   "cell_type": "code",
   "execution_count": 4,
   "metadata": {},
   "outputs": [
    {
     "data": {
      "text/html": [
       "<div>\n",
       "<style scoped>\n",
       "    .dataframe tbody tr th:only-of-type {\n",
       "        vertical-align: middle;\n",
       "    }\n",
       "\n",
       "    .dataframe tbody tr th {\n",
       "        vertical-align: top;\n",
       "    }\n",
       "\n",
       "    .dataframe thead th {\n",
       "        text-align: right;\n",
       "    }\n",
       "</style>\n",
       "<table border=\"1\" class=\"dataframe\">\n",
       "  <thead>\n",
       "    <tr style=\"text-align: right;\">\n",
       "      <th></th>\n",
       "      <th>URL</th>\n",
       "      <th>Image URL</th>\n",
       "      <th>Price</th>\n",
       "      <th>Title</th>\n",
       "      <th>Subtitle</th>\n",
       "      <th>Surface</th>\n",
       "      <th>Description</th>\n",
       "      <th>Features</th>\n",
       "      <th>Points of Interest</th>\n",
       "    </tr>\n",
       "  </thead>\n",
       "  <tbody>\n",
       "    <tr>\n",
       "      <th>0</th>\n",
       "      <td>https://www.tecnocasa.tn/vendre/appartement/gr...</td>\n",
       "      <td>https://cdn-media.medialabtc.it/tn/agencies/tu...</td>\n",
       "      <td>473 900 DT</td>\n",
       "      <td>Duplex en vente</td>\n",
       "      <td>Ariana, Avenue doha - Cité El Ghazala</td>\n",
       "      <td>136 m²</td>\n",
       "      <td>Cette résidence en cour de finition est situé ...</td>\n",
       "      <td>REF.: 35612, Etage: Terre, Libre: Oui, Catégor...</td>\n",
       "      <td>Transport public: Transport public (340 m); st...</td>\n",
       "    </tr>\n",
       "    <tr>\n",
       "      <th>1</th>\n",
       "      <td>https://www.tecnocasa.tn/vendre/appartement/gr...</td>\n",
       "      <td>https://cdn-media.medialabtc.it/tn/agencies/tu...</td>\n",
       "      <td>317 200 DT</td>\n",
       "      <td>S+1 en vente</td>\n",
       "      <td>Ariana, Avenue doha - Cité El Ghazala</td>\n",
       "      <td>88 m²</td>\n",
       "      <td>Cet appartementdirect promoteuren cour de fini...</td>\n",
       "      <td>REF.: 35613, Etage: Terre, Libre: Oui, Catégor...</td>\n",
       "      <td>Transport public: Transport public (340 m); st...</td>\n",
       "    </tr>\n",
       "    <tr>\n",
       "      <th>2</th>\n",
       "      <td>https://www.tecnocasa.tn/vendre/appartement/gr...</td>\n",
       "      <td>https://cdn-media.medialabtc.it/tn/agencies/tu...</td>\n",
       "      <td>1 500 000 DT</td>\n",
       "      <td>S+4 en vente</td>\n",
       "      <td>Les Berges Du Lac - Le Lac 2</td>\n",
       "      <td>335 m²</td>\n",
       "      <td>Cet appartement fait partie d’une résidence ér...</td>\n",
       "      <td>REF.: 35788, Etage: 4 (étage dernier), Conditi...</td>\n",
       "      <td>Transport public: ạlbḥyrẗ (290 m); Bus 35 from...</td>\n",
       "    </tr>\n",
       "  </tbody>\n",
       "</table>\n",
       "</div>"
      ],
      "text/plain": [
       "                                                 URL  \\\n",
       "0  https://www.tecnocasa.tn/vendre/appartement/gr...   \n",
       "1  https://www.tecnocasa.tn/vendre/appartement/gr...   \n",
       "2  https://www.tecnocasa.tn/vendre/appartement/gr...   \n",
       "\n",
       "                                           Image URL         Price  \\\n",
       "0  https://cdn-media.medialabtc.it/tn/agencies/tu...    473 900 DT   \n",
       "1  https://cdn-media.medialabtc.it/tn/agencies/tu...    317 200 DT   \n",
       "2  https://cdn-media.medialabtc.it/tn/agencies/tu...  1 500 000 DT   \n",
       "\n",
       "             Title                               Subtitle Surface  \\\n",
       "0  Duplex en vente  Ariana, Avenue doha - Cité El Ghazala  136 m²   \n",
       "1     S+1 en vente  Ariana, Avenue doha - Cité El Ghazala   88 m²   \n",
       "2     S+4 en vente           Les Berges Du Lac - Le Lac 2  335 m²   \n",
       "\n",
       "                                         Description  \\\n",
       "0  Cette résidence en cour de finition est situé ...   \n",
       "1  Cet appartementdirect promoteuren cour de fini...   \n",
       "2  Cet appartement fait partie d’une résidence ér...   \n",
       "\n",
       "                                            Features  \\\n",
       "0  REF.: 35612, Etage: Terre, Libre: Oui, Catégor...   \n",
       "1  REF.: 35613, Etage: Terre, Libre: Oui, Catégor...   \n",
       "2  REF.: 35788, Etage: 4 (étage dernier), Conditi...   \n",
       "\n",
       "                                  Points of Interest  \n",
       "0  Transport public: Transport public (340 m); st...  \n",
       "1  Transport public: Transport public (340 m); st...  \n",
       "2  Transport public: ạlbḥyrẗ (290 m); Bus 35 from...  "
      ]
     },
     "execution_count": 4,
     "metadata": {},
     "output_type": "execute_result"
    }
   ],
   "source": [
    "file_path = r\"C:\\Users\\rezgu\\OneDrive\\Bureau\\Housing_pricing\\data\\raw\\TechnocasaDataset.csv\"\n",
    "df = pd.read_csv(file_path)\n",
    "df.head(3)"
   ]
  },
  {
   "cell_type": "code",
   "execution_count": 5,
   "metadata": {},
   "outputs": [
    {
     "data": {
      "text/plain": [
       "URL                   222\n",
       "Image URL             222\n",
       "Price                 222\n",
       "Title                 222\n",
       "Subtitle              222\n",
       "Surface               222\n",
       "Description           222\n",
       "Features              222\n",
       "Points of Interest    222\n",
       "dtype: int64"
      ]
     },
     "execution_count": 5,
     "metadata": {},
     "output_type": "execute_result"
    }
   ],
   "source": [
    "df.count()"
   ]
  },
  {
   "cell_type": "markdown",
   "metadata": {},
   "source": [
    "### 2. Print Current Values"
   ]
  },
  {
   "cell_type": "code",
   "execution_count": 10,
   "metadata": {},
   "outputs": [
    {
     "data": {
      "text/plain": [
       "array(['Ariana, Avenue doha - Cité El Ghazala',\n",
       "       'Les Berges Du Lac - Le Lac 2', 'El Menzah - Menzah 6',\n",
       "       'El Menzah - Menzah 5',\n",
       "       'Jardins de Carthage - Les Jardins De Carthage'], dtype=object)"
      ]
     },
     "execution_count": 10,
     "metadata": {},
     "output_type": "execute_result"
    }
   ],
   "source": [
    "df['Subtitle'].unique()"
   ]
  },
  {
   "cell_type": "markdown",
   "metadata": {},
   "source": [
    "### 3. Process Cities"
   ]
  },
  {
   "cell_type": "code",
   "execution_count": 13,
   "metadata": {},
   "outputs": [],
   "source": [
    "def preprocess_location(row):\n",
    "    location_mapping={\n",
    "        \"Ariana, Avenue doha - Cité El Ghazala\":\"ghazela\",\n",
    "        \"Les Berges Du Lac - Le Lac 2\":\"lac 2\",\n",
    "        \"El Menzah - Menzah 5\":\"menzah 5\",\n",
    "        \"El Menzah - Menzah 6\":\"menzah 6\",\n",
    "        \"Jardins de Carthage - Les Jardins De Carthage\":\"jardins de carthage\"\n",
    "    }\n",
    "    return location_mapping.get(row['Subtitle'], row['Subtitle'])"
   ]
  },
  {
   "cell_type": "code",
   "execution_count": 14,
   "metadata": {},
   "outputs": [],
   "source": [
    "df[\"Subtitle\"]=df.apply(preprocess_location, axis=1)"
   ]
  },
  {
   "cell_type": "code",
   "execution_count": 15,
   "metadata": {},
   "outputs": [
    {
     "data": {
      "text/html": [
       "<div>\n",
       "<style scoped>\n",
       "    .dataframe tbody tr th:only-of-type {\n",
       "        vertical-align: middle;\n",
       "    }\n",
       "\n",
       "    .dataframe tbody tr th {\n",
       "        vertical-align: top;\n",
       "    }\n",
       "\n",
       "    .dataframe thead th {\n",
       "        text-align: right;\n",
       "    }\n",
       "</style>\n",
       "<table border=\"1\" class=\"dataframe\">\n",
       "  <thead>\n",
       "    <tr style=\"text-align: right;\">\n",
       "      <th></th>\n",
       "      <th>URL</th>\n",
       "      <th>Image URL</th>\n",
       "      <th>Price</th>\n",
       "      <th>Title</th>\n",
       "      <th>Subtitle</th>\n",
       "      <th>Surface</th>\n",
       "      <th>Description</th>\n",
       "      <th>Features</th>\n",
       "      <th>Points of Interest</th>\n",
       "    </tr>\n",
       "  </thead>\n",
       "  <tbody>\n",
       "    <tr>\n",
       "      <th>0</th>\n",
       "      <td>https://www.tecnocasa.tn/vendre/appartement/gr...</td>\n",
       "      <td>https://cdn-media.medialabtc.it/tn/agencies/tu...</td>\n",
       "      <td>473 900 DT</td>\n",
       "      <td>Duplex en vente</td>\n",
       "      <td>ghazela</td>\n",
       "      <td>136 m²</td>\n",
       "      <td>Cette résidence en cour de finition est situé ...</td>\n",
       "      <td>REF.: 35612, Etage: Terre, Libre: Oui, Catégor...</td>\n",
       "      <td>Transport public: Transport public (340 m); st...</td>\n",
       "    </tr>\n",
       "    <tr>\n",
       "      <th>1</th>\n",
       "      <td>https://www.tecnocasa.tn/vendre/appartement/gr...</td>\n",
       "      <td>https://cdn-media.medialabtc.it/tn/agencies/tu...</td>\n",
       "      <td>317 200 DT</td>\n",
       "      <td>S+1 en vente</td>\n",
       "      <td>ghazela</td>\n",
       "      <td>88 m²</td>\n",
       "      <td>Cet appartementdirect promoteuren cour de fini...</td>\n",
       "      <td>REF.: 35613, Etage: Terre, Libre: Oui, Catégor...</td>\n",
       "      <td>Transport public: Transport public (340 m); st...</td>\n",
       "    </tr>\n",
       "    <tr>\n",
       "      <th>2</th>\n",
       "      <td>https://www.tecnocasa.tn/vendre/appartement/gr...</td>\n",
       "      <td>https://cdn-media.medialabtc.it/tn/agencies/tu...</td>\n",
       "      <td>1 500 000 DT</td>\n",
       "      <td>S+4 en vente</td>\n",
       "      <td>lac 2</td>\n",
       "      <td>335 m²</td>\n",
       "      <td>Cet appartement fait partie d’une résidence ér...</td>\n",
       "      <td>REF.: 35788, Etage: 4 (étage dernier), Conditi...</td>\n",
       "      <td>Transport public: ạlbḥyrẗ (290 m); Bus 35 from...</td>\n",
       "    </tr>\n",
       "    <tr>\n",
       "      <th>3</th>\n",
       "      <td>https://www.tecnocasa.tn/vendre/appartement/gr...</td>\n",
       "      <td>https://cdn-media.medialabtc.it/tn/agencies/ar...</td>\n",
       "      <td>280 000 DT</td>\n",
       "      <td>S+2 en vente</td>\n",
       "      <td>menzah 6</td>\n",
       "      <td>120 m²</td>\n",
       "      <td>Cet appartement en S+2 est situé au 5ème étage...</td>\n",
       "      <td>REF.: 34875, Libre: Oui, Catégorie: Ancien, An...</td>\n",
       "      <td>Transport public: 10 Décembre 1948 (1,4 Km); C...</td>\n",
       "    </tr>\n",
       "    <tr>\n",
       "      <th>4</th>\n",
       "      <td>https://www.tecnocasa.tn/vendre/appartement/gr...</td>\n",
       "      <td>https://cdn-media.medialabtc.it/tn/agencies/ar...</td>\n",
       "      <td>427 480 DT</td>\n",
       "      <td>S+2 en vente</td>\n",
       "      <td>menzah 5</td>\n",
       "      <td>106 m²</td>\n",
       "      <td>Cet appartement est situé au 2éme étage d'une ...</td>\n",
       "      <td>REF.: 33814, Etage: Moyen, Ascenseur: Oui, Cha...</td>\n",
       "      <td>Transport public: 10 Décembre 1948 (610 m); Ci...</td>\n",
       "    </tr>\n",
       "    <tr>\n",
       "      <th>5</th>\n",
       "      <td>https://www.tecnocasa.tn/vendre/appartement/gr...</td>\n",
       "      <td>https://cdn-media.medialabtc.it/tn/agencies/tu...</td>\n",
       "      <td>680 000 DT</td>\n",
       "      <td>S+3 en vente</td>\n",
       "      <td>jardins de carthage</td>\n",
       "      <td>225 m²</td>\n",
       "      <td>Cet appartement est situé au quatrième étage d...</td>\n",
       "      <td>REF.: 29765, Etage: 4 (étage moyen), Condition...</td>\n",
       "      <td>Transport public: Carthage Byrsa (2,2 Km); Car...</td>\n",
       "    </tr>\n",
       "    <tr>\n",
       "      <th>6</th>\n",
       "      <td>https://www.tecnocasa.tn/vendre/appartement/gr...</td>\n",
       "      <td>https://cdn-media.medialabtc.it/tn/agencies/tu...</td>\n",
       "      <td>473 900 DT</td>\n",
       "      <td>Duplex en vente</td>\n",
       "      <td>ghazela</td>\n",
       "      <td>136 m²</td>\n",
       "      <td>Cette résidence en cour de finition est situé ...</td>\n",
       "      <td>REF.: 35612, Etage: Terre, Libre: Oui, Catégor...</td>\n",
       "      <td>Transport public: Transport public (340 m); st...</td>\n",
       "    </tr>\n",
       "    <tr>\n",
       "      <th>7</th>\n",
       "      <td>https://www.tecnocasa.tn/vendre/appartement/gr...</td>\n",
       "      <td>https://cdn-media.medialabtc.it/tn/agencies/tu...</td>\n",
       "      <td>317 200 DT</td>\n",
       "      <td>S+1 en vente</td>\n",
       "      <td>ghazela</td>\n",
       "      <td>88 m²</td>\n",
       "      <td>Cet appartementdirect promoteuren cour de fini...</td>\n",
       "      <td>REF.: 35613, Etage: Terre, Libre: Oui, Catégor...</td>\n",
       "      <td>Transport public: Transport public (340 m); st...</td>\n",
       "    </tr>\n",
       "    <tr>\n",
       "      <th>8</th>\n",
       "      <td>https://www.tecnocasa.tn/vendre/appartement/gr...</td>\n",
       "      <td>https://cdn-media.medialabtc.it/tn/agencies/tu...</td>\n",
       "      <td>1 500 000 DT</td>\n",
       "      <td>S+4 en vente</td>\n",
       "      <td>lac 2</td>\n",
       "      <td>335 m²</td>\n",
       "      <td>Cet appartement fait partie d’une résidence ér...</td>\n",
       "      <td>REF.: 35788, Etage: 4 (étage dernier), Conditi...</td>\n",
       "      <td>Transport public: ạlbḥyrẗ (290 m); Bus 35 from...</td>\n",
       "    </tr>\n",
       "    <tr>\n",
       "      <th>9</th>\n",
       "      <td>https://www.tecnocasa.tn/vendre/appartement/gr...</td>\n",
       "      <td>https://cdn-media.medialabtc.it/tn/agencies/ar...</td>\n",
       "      <td>280 000 DT</td>\n",
       "      <td>S+2 en vente</td>\n",
       "      <td>menzah 6</td>\n",
       "      <td>120 m²</td>\n",
       "      <td>Cet appartement en S+2 est situé au 5ème étage...</td>\n",
       "      <td>REF.: 34875, Libre: Oui, Catégorie: Ancien, An...</td>\n",
       "      <td>Transport public: 10 Décembre 1948 (1,4 Km); C...</td>\n",
       "    </tr>\n",
       "  </tbody>\n",
       "</table>\n",
       "</div>"
      ],
      "text/plain": [
       "                                                 URL  \\\n",
       "0  https://www.tecnocasa.tn/vendre/appartement/gr...   \n",
       "1  https://www.tecnocasa.tn/vendre/appartement/gr...   \n",
       "2  https://www.tecnocasa.tn/vendre/appartement/gr...   \n",
       "3  https://www.tecnocasa.tn/vendre/appartement/gr...   \n",
       "4  https://www.tecnocasa.tn/vendre/appartement/gr...   \n",
       "5  https://www.tecnocasa.tn/vendre/appartement/gr...   \n",
       "6  https://www.tecnocasa.tn/vendre/appartement/gr...   \n",
       "7  https://www.tecnocasa.tn/vendre/appartement/gr...   \n",
       "8  https://www.tecnocasa.tn/vendre/appartement/gr...   \n",
       "9  https://www.tecnocasa.tn/vendre/appartement/gr...   \n",
       "\n",
       "                                           Image URL         Price  \\\n",
       "0  https://cdn-media.medialabtc.it/tn/agencies/tu...    473 900 DT   \n",
       "1  https://cdn-media.medialabtc.it/tn/agencies/tu...    317 200 DT   \n",
       "2  https://cdn-media.medialabtc.it/tn/agencies/tu...  1 500 000 DT   \n",
       "3  https://cdn-media.medialabtc.it/tn/agencies/ar...    280 000 DT   \n",
       "4  https://cdn-media.medialabtc.it/tn/agencies/ar...    427 480 DT   \n",
       "5  https://cdn-media.medialabtc.it/tn/agencies/tu...    680 000 DT   \n",
       "6  https://cdn-media.medialabtc.it/tn/agencies/tu...    473 900 DT   \n",
       "7  https://cdn-media.medialabtc.it/tn/agencies/tu...    317 200 DT   \n",
       "8  https://cdn-media.medialabtc.it/tn/agencies/tu...  1 500 000 DT   \n",
       "9  https://cdn-media.medialabtc.it/tn/agencies/ar...    280 000 DT   \n",
       "\n",
       "             Title             Subtitle Surface  \\\n",
       "0  Duplex en vente              ghazela  136 m²   \n",
       "1     S+1 en vente              ghazela   88 m²   \n",
       "2     S+4 en vente                lac 2  335 m²   \n",
       "3     S+2 en vente             menzah 6  120 m²   \n",
       "4     S+2 en vente             menzah 5  106 m²   \n",
       "5     S+3 en vente  jardins de carthage  225 m²   \n",
       "6  Duplex en vente              ghazela  136 m²   \n",
       "7     S+1 en vente              ghazela   88 m²   \n",
       "8     S+4 en vente                lac 2  335 m²   \n",
       "9     S+2 en vente             menzah 6  120 m²   \n",
       "\n",
       "                                         Description  \\\n",
       "0  Cette résidence en cour de finition est situé ...   \n",
       "1  Cet appartementdirect promoteuren cour de fini...   \n",
       "2  Cet appartement fait partie d’une résidence ér...   \n",
       "3  Cet appartement en S+2 est situé au 5ème étage...   \n",
       "4  Cet appartement est situé au 2éme étage d'une ...   \n",
       "5  Cet appartement est situé au quatrième étage d...   \n",
       "6  Cette résidence en cour de finition est situé ...   \n",
       "7  Cet appartementdirect promoteuren cour de fini...   \n",
       "8  Cet appartement fait partie d’une résidence ér...   \n",
       "9  Cet appartement en S+2 est situé au 5ème étage...   \n",
       "\n",
       "                                            Features  \\\n",
       "0  REF.: 35612, Etage: Terre, Libre: Oui, Catégor...   \n",
       "1  REF.: 35613, Etage: Terre, Libre: Oui, Catégor...   \n",
       "2  REF.: 35788, Etage: 4 (étage dernier), Conditi...   \n",
       "3  REF.: 34875, Libre: Oui, Catégorie: Ancien, An...   \n",
       "4  REF.: 33814, Etage: Moyen, Ascenseur: Oui, Cha...   \n",
       "5  REF.: 29765, Etage: 4 (étage moyen), Condition...   \n",
       "6  REF.: 35612, Etage: Terre, Libre: Oui, Catégor...   \n",
       "7  REF.: 35613, Etage: Terre, Libre: Oui, Catégor...   \n",
       "8  REF.: 35788, Etage: 4 (étage dernier), Conditi...   \n",
       "9  REF.: 34875, Libre: Oui, Catégorie: Ancien, An...   \n",
       "\n",
       "                                  Points of Interest  \n",
       "0  Transport public: Transport public (340 m); st...  \n",
       "1  Transport public: Transport public (340 m); st...  \n",
       "2  Transport public: ạlbḥyrẗ (290 m); Bus 35 from...  \n",
       "3  Transport public: 10 Décembre 1948 (1,4 Km); C...  \n",
       "4  Transport public: 10 Décembre 1948 (610 m); Ci...  \n",
       "5  Transport public: Carthage Byrsa (2,2 Km); Car...  \n",
       "6  Transport public: Transport public (340 m); st...  \n",
       "7  Transport public: Transport public (340 m); st...  \n",
       "8  Transport public: ạlbḥyrẗ (290 m); Bus 35 from...  \n",
       "9  Transport public: 10 Décembre 1948 (1,4 Km); C...  "
      ]
     },
     "execution_count": 15,
     "metadata": {},
     "output_type": "execute_result"
    }
   ],
   "source": [
    "df.head(10)"
   ]
  },
  {
   "cell_type": "code",
   "execution_count": 16,
   "metadata": {},
   "outputs": [
    {
     "data": {
      "text/plain": [
       "array(['ghazela', 'lac 2', 'menzah 6', 'menzah 5', 'jardins de carthage'],\n",
       "      dtype=object)"
      ]
     },
     "execution_count": 16,
     "metadata": {},
     "output_type": "execute_result"
    }
   ],
   "source": [
    "df[\"Subtitle\"].unique()"
   ]
  },
  {
   "cell_type": "markdown",
   "metadata": {},
   "source": [
    "### 4. Save Changes"
   ]
  },
  {
   "cell_type": "code",
   "execution_count": 17,
   "metadata": {},
   "outputs": [],
   "source": [
    "df.to_csv(file_path)"
   ]
  }
 ],
 "metadata": {
  "kernelspec": {
   "display_name": "Housing_pricing",
   "language": "python",
   "name": "python3"
  },
  "language_info": {
   "codemirror_mode": {
    "name": "ipython",
    "version": 3
   },
   "file_extension": ".py",
   "mimetype": "text/x-python",
   "name": "python",
   "nbconvert_exporter": "python",
   "pygments_lexer": "ipython3",
   "version": "3.12.7"
  }
 },
 "nbformat": 4,
 "nbformat_minor": 2
}
