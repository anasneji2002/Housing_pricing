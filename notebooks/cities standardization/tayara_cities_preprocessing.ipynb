{
 "cells": [
  {
   "cell_type": "code",
   "execution_count": 9,
   "metadata": {},
   "outputs": [],
   "source": [
    "import pandas as pd"
   ]
  },
  {
   "cell_type": "markdown",
   "metadata": {},
   "source": [
    "### 1. Load the data"
   ]
  },
  {
   "cell_type": "code",
   "execution_count": 50,
   "metadata": {},
   "outputs": [
    {
     "data": {
      "text/html": [
       "<div>\n",
       "<style scoped>\n",
       "    .dataframe tbody tr th:only-of-type {\n",
       "        vertical-align: middle;\n",
       "    }\n",
       "\n",
       "    .dataframe tbody tr th {\n",
       "        vertical-align: top;\n",
       "    }\n",
       "\n",
       "    .dataframe thead th {\n",
       "        text-align: right;\n",
       "    }\n",
       "</style>\n",
       "<table border=\"1\" class=\"dataframe\">\n",
       "  <thead>\n",
       "    <tr style=\"text-align: right;\">\n",
       "      <th></th>\n",
       "      <th>price</th>\n",
       "      <th>transaction</th>\n",
       "      <th>title</th>\n",
       "      <th>city</th>\n",
       "      <th>region</th>\n",
       "      <th>description</th>\n",
       "      <th>surface</th>\n",
       "      <th>bathrooms</th>\n",
       "      <th>rooms</th>\n",
       "    </tr>\n",
       "  </thead>\n",
       "  <tbody>\n",
       "    <tr>\n",
       "      <th>0</th>\n",
       "      <td>490000.0</td>\n",
       "      <td>sale</td>\n",
       "      <td>S+3 avec jardin à chotrana 1</td>\n",
       "      <td>ariana</td>\n",
       "      <td>chotrana 1</td>\n",
       "      <td>Cet appartement est situé au rez-de-chaussée d...</td>\n",
       "      <td>141</td>\n",
       "      <td>3.0</td>\n",
       "      <td>3</td>\n",
       "    </tr>\n",
       "    <tr>\n",
       "      <th>1</th>\n",
       "      <td>380000.0</td>\n",
       "      <td>sale</td>\n",
       "      <td>un s+2 à chotrana 1</td>\n",
       "      <td>ariana</td>\n",
       "      <td>chotrana 1</td>\n",
       "      <td>Cet appartement est situé à chotrana 1 dans un...</td>\n",
       "      <td>100</td>\n",
       "      <td>1.0</td>\n",
       "      <td>2</td>\n",
       "    </tr>\n",
       "    <tr>\n",
       "      <th>2</th>\n",
       "      <td>180000.0</td>\n",
       "      <td>sale</td>\n",
       "      <td>S+3 en vente</td>\n",
       "      <td>manouba</td>\n",
       "      <td>manouba ville</td>\n",
       "      <td>Cet appartement se situe à Dyar ben Mahmoud Ag...</td>\n",
       "      <td>130</td>\n",
       "      <td>1.0</td>\n",
       "      <td>4</td>\n",
       "    </tr>\n",
       "    <tr>\n",
       "      <th>3</th>\n",
       "      <td>240000.0</td>\n",
       "      <td>sale</td>\n",
       "      <td>Charmant S+2 avec grande terrasse à vendre</td>\n",
       "      <td>tunis</td>\n",
       "      <td>gammarth</td>\n",
       "      <td>À vendre : Appartement S+2 avec une grande ter...</td>\n",
       "      <td>120</td>\n",
       "      <td>1.0</td>\n",
       "      <td>1</td>\n",
       "    </tr>\n",
       "    <tr>\n",
       "      <th>4</th>\n",
       "      <td>365000.0</td>\n",
       "      <td>sale</td>\n",
       "      <td>appartement s3 ennaser bon prix</td>\n",
       "      <td>ariana</td>\n",
       "      <td>ennasr 2</td>\n",
       "      <td>a vendre a ennaser un appartement s3 au 5éme é...</td>\n",
       "      <td>148</td>\n",
       "      <td>2.0</td>\n",
       "      <td>03</td>\n",
       "    </tr>\n",
       "  </tbody>\n",
       "</table>\n",
       "</div>"
      ],
      "text/plain": [
       "      price transaction                                       title     city  \\\n",
       "0  490000.0        sale               S+3 avec jardin à chotrana 1    ariana   \n",
       "1  380000.0        sale                         un s+2 à chotrana 1   ariana   \n",
       "2  180000.0        sale                                S+3 en vente  manouba   \n",
       "3  240000.0        sale  Charmant S+2 avec grande terrasse à vendre    tunis   \n",
       "4  365000.0        sale            appartement s3 ennaser bon prix    ariana   \n",
       "\n",
       "          region                                        description surface  \\\n",
       "0     chotrana 1  Cet appartement est situé au rez-de-chaussée d...     141   \n",
       "1     chotrana 1  Cet appartement est situé à chotrana 1 dans un...     100   \n",
       "2  manouba ville  Cet appartement se situe à Dyar ben Mahmoud Ag...     130   \n",
       "3       gammarth  À vendre : Appartement S+2 avec une grande ter...     120   \n",
       "4       ennasr 2  a vendre a ennaser un appartement s3 au 5éme é...     148   \n",
       "\n",
       "   bathrooms rooms  \n",
       "0        3.0     3  \n",
       "1        1.0     2  \n",
       "2        1.0     4  \n",
       "3        1.0     1  \n",
       "4        2.0    03  "
      ]
     },
     "execution_count": 50,
     "metadata": {},
     "output_type": "execute_result"
    }
   ],
   "source": [
    "file_path = r\"C:\\Users\\rezgu\\OneDrive\\Bureau\\Housing_pricing\\data\\raw\\tayara.csv\"\n",
    "df = pd.read_csv(file_path)\n",
    "df.head()"
   ]
  },
  {
   "cell_type": "markdown",
   "metadata": {},
   "source": [
    "### 2. Print Current Values"
   ]
  },
  {
   "cell_type": "code",
   "execution_count": 29,
   "metadata": {},
   "outputs": [
    {
     "data": {
      "text/plain": [
       "array(['Ariana', 'La_Manouba', 'Tunis', 'Ben_Arous', 'tunis'],\n",
       "      dtype=object)"
      ]
     },
     "execution_count": 29,
     "metadata": {},
     "output_type": "execute_result"
    }
   ],
   "source": [
    "df['city'].unique()"
   ]
  },
  {
   "cell_type": "code",
   "execution_count": 38,
   "metadata": {},
   "outputs": [
    {
     "data": {
      "text/plain": [
       "array(['Chotrana_1', 'Manouba_Ville', 'Gammarth', 'Cit_Ennasr_2',\n",
       "       'Ghazela', 'Boumhel', 'Les_Jardins_El_Menzah_1', 'La_Soukra',\n",
       "       'Mgrine', 'Borj_Cedria', 'Lac_1', 'Medina_Jedida', 'Ariana',\n",
       "       'Jardins_De_Carthage', 'Agba', 'Chotrana_2', 'Le_Kram', 'L_Aouina',\n",
       "       'La_Marsa', 'El_Menzah_6', 'La_Goulette', 'El_Menzah_9', 'Rads',\n",
       "       'Monfleury', 'Centre_Ville_Lafayette', 'Sidi_Hassine',\n",
       "       'Hammam_Lif', 'Ain_Zaghouen', 'El_Ouardia', 'Autres_Villes',\n",
       "       'Tunis', 'Mornag', 'Lac_2', 'Borj_Louzir', 'Riadh_Andalous',\n",
       "       'Ain_Zaghouan_Nord', 'El_Mourouj_6', 'Fouchana', 'Carthage',\n",
       "       'Ben_Arous', 'El_Menzah_7', 'Ariana_Ville', 'Le_Bardo', 'Ennasr',\n",
       "       'Jardins_El_Menzah', 'El_Manar_1', 'Raoued', 'Cit_Olympique',\n",
       "       'Ezzahra', 'Ariana_Essoughra', 'El_Manar_2', 'Hammam_Chott',\n",
       "       'Ain_Zaghouan_Sud', 'La_Manouba', 'Chotrana_3', 'Menzah',\n",
       "       'Les_Jardins_El_Menzah_2', 'El_Menzah_5', 'Denden', 'El_Mourouj_1',\n",
       "       'El_Menzah_1', 'Mohamedia', 'Douar_Hicher', 'El_Mourouj',\n",
       "       'El_Mourouj_5', 'El_Mourouj_4', 'Tunis_Belvedere',\n",
       "       'Centre_Urbain_Nord', 'Bab_Souika', 'tunis', 'Cite_Ennkhilet',\n",
       "       'El_Menzah_8', 'Ksar_Said', 'Chotrana', 'Dar_Fadhal'], dtype=object)"
      ]
     },
     "execution_count": 38,
     "metadata": {},
     "output_type": "execute_result"
    }
   ],
   "source": [
    "df['region'].unique()"
   ]
  },
  {
   "cell_type": "markdown",
   "metadata": {},
   "source": [
    "### 3. Process Cities"
   ]
  },
  {
   "cell_type": "code",
   "execution_count": 39,
   "metadata": {},
   "outputs": [],
   "source": [
    "def process_city(row):\n",
    "    if row['city'] == 'Tunis':\n",
    "        return 'tunis'\n",
    "    elif row['city'] == 'Ariana':\n",
    "        return 'ariana'\n",
    "    elif row['city'] == 'Ben_Arous':\n",
    "        return 'ben arous'\n",
    "    elif row['city'] == 'La_Manouba':\n",
    "        return 'manouba'\n"
   ]
  },
  {
   "cell_type": "markdown",
   "metadata": {},
   "source": [
    "### 4. Process Regions"
   ]
  },
  {
   "cell_type": "code",
   "execution_count": 51,
   "metadata": {},
   "outputs": [],
   "source": [
    "def process_region(row):\n",
    "    region_mapping = {\n",
    "        'Tunis': 'tunis',\n",
    "        'Ariana': 'ariana',\n",
    "        'Ben_Arous': 'ben arous',\n",
    "        'La_Manouba': 'manouba',\n",
    "        'Chotrana_1': 'chotrana 1',\n",
    "        'Manouba_Ville': 'manouba ville',\n",
    "        'Gammarth': 'gammarth',\n",
    "        'Cit_Ennasr_2': 'ennasr 2',\n",
    "        'Ghazela': 'ghazela',\n",
    "        'Boumhel': 'boumhel',\n",
    "        'Les_Jardins_El_Menzah_1': 'jardins menzah 1',\n",
    "        'La_Soukra': 'soukra',\n",
    "        'Mgrine': 'megrine',\n",
    "        'Borj_Cedria': 'borj cedria',\n",
    "        'Lac_1': 'lac 1',\n",
    "        'Medina_Jedida': 'medina jedida',\n",
    "        'Jardins_De_Carthage': 'jardins de carthage',\n",
    "        'Agba': 'agba',\n",
    "        'Chotrana_2': 'chotrana 2',\n",
    "        'le kram': 'kram',\n",
    "        'L_Aouina': 'aouina',\n",
    "        'La_Marsa': 'marsa',\n",
    "        'El_Menzah_6': 'menzah 6',\n",
    "        'La_Goulette': 'la goulette',\n",
    "        'El_Menzah_9': 'menzah 9',\n",
    "        'Rads': 'rades',\n",
    "        'Monfleury': 'monfleury',\n",
    "        'Centre_Ville_Lafayette': 'lafayette',\n",
    "        'Sidi_Hassine': 'sidi hassine',\n",
    "        'Hammam_Lif': 'hammam lif',\n",
    "        'Ain_Zaghouen': 'ain zaghouan',\n",
    "        'El_Ouardia': 'el ouardia',\n",
    "        'Autres_Villes': 'autres villes',\n",
    "        'Mornag': 'mornag',\n",
    "        'Lac_2': 'lac 2',\n",
    "        'Borj_Louzir': 'borj louzir',\n",
    "        'Riadh_Andalous': 'riadh andalous',\n",
    "        'Ain_Zaghouan_Nord': 'ain zaghouan nord',\n",
    "        'El_Mourouj_6': 'mourouj 6',\n",
    "        'Fouchana': 'fouchana',\n",
    "        'Carthage': 'carthage',\n",
    "        'El_Menzah_7': 'menzah 7',\n",
    "        'Ariana_Ville': 'ariana ville',\n",
    "        'Le_Bardo': 'bardo',\n",
    "        'Ennasr': 'ennasr',\n",
    "        'Jardins_El_Menzah': 'jardins el menzah',\n",
    "        'El_Manar_1': 'manar 1',\n",
    "        'Raoued': 'raoued',\n",
    "        'Cit_Olympique': 'cite olympique',\n",
    "        'Ezzahra': 'ezzahra',\n",
    "        'Ariana_Essoughra': 'ariana essoughra',\n",
    "        'El_Manar_2': 'manar 2',\n",
    "        'Hammam_Chott': 'hammam chott',\n",
    "        'Ain_Zaghouan_Sud': 'ain zaghouan sud',\n",
    "        'Chotrana_3': 'chotrana 3',\n",
    "        'Menzah': 'menzah',\n",
    "        'Les_Jardins_El_Menzah_2': 'jardins menzah 2',\n",
    "        'El_Menzah_5': 'menzah 5',\n",
    "        'Denden': 'denden',\n",
    "        'el mourouj 1': 'mourouj 1',\n",
    "        'el menzah 1': 'menzah 1',\n",
    "        'Mohamedia': 'mohamedia',\n",
    "        'Douar_Hicher': 'douar hicher',\n",
    "        'El_Mourouj': 'mourouj',\n",
    "        'El_Mourouj_5': 'mourouj 5',\n",
    "        'El_Mourouj_4': 'mourouj 4',\n",
    "        'Tunis_Belvedere': 'tunis belvedere',\n",
    "        'Centre_Urbain_Nord': 'centre urbain nord',\n",
    "        'Bab_Souika': 'bab souika',\n",
    "        'Cite_Ennkhilet': 'cite ennkhilet',\n",
    "        'El_Menzah_8': 'menzah 8',\n",
    "        'Ksar_Said': 'ksar said',\n",
    "        'Chotrana': 'chotrana',\n",
    "        'Dar_Fadhal': 'dar fadhal',\n",
    "    }\n",
    "\n",
    "    return region_mapping.get(row['region'], row['region'])  # Return original if no mapping\n"
   ]
  },
  {
   "cell_type": "markdown",
   "metadata": {},
   "source": [
    "### 5. Apply Transformation"
   ]
  },
  {
   "cell_type": "code",
   "execution_count": 45,
   "metadata": {},
   "outputs": [],
   "source": [
    "df['city']=df.apply(process_city, axis=1)"
   ]
  },
  {
   "cell_type": "code",
   "execution_count": 52,
   "metadata": {},
   "outputs": [],
   "source": [
    "df['region']=df.apply(process_region, axis=1)"
   ]
  },
  {
   "cell_type": "code",
   "execution_count": 47,
   "metadata": {},
   "outputs": [
    {
     "data": {
      "text/html": [
       "<div>\n",
       "<style scoped>\n",
       "    .dataframe tbody tr th:only-of-type {\n",
       "        vertical-align: middle;\n",
       "    }\n",
       "\n",
       "    .dataframe tbody tr th {\n",
       "        vertical-align: top;\n",
       "    }\n",
       "\n",
       "    .dataframe thead th {\n",
       "        text-align: right;\n",
       "    }\n",
       "</style>\n",
       "<table border=\"1\" class=\"dataframe\">\n",
       "  <thead>\n",
       "    <tr style=\"text-align: right;\">\n",
       "      <th></th>\n",
       "      <th>price</th>\n",
       "      <th>transaction</th>\n",
       "      <th>title</th>\n",
       "      <th>city</th>\n",
       "      <th>region</th>\n",
       "      <th>description</th>\n",
       "      <th>surface</th>\n",
       "      <th>bathrooms</th>\n",
       "      <th>rooms</th>\n",
       "    </tr>\n",
       "  </thead>\n",
       "  <tbody>\n",
       "    <tr>\n",
       "      <th>0</th>\n",
       "      <td>490000.0</td>\n",
       "      <td>sale</td>\n",
       "      <td>S+3 avec jardin à chotrana 1</td>\n",
       "      <td>ariana</td>\n",
       "      <td>chotrana 1</td>\n",
       "      <td>Cet appartement est situé au rez-de-chaussée d...</td>\n",
       "      <td>141</td>\n",
       "      <td>3.0</td>\n",
       "      <td>3</td>\n",
       "    </tr>\n",
       "    <tr>\n",
       "      <th>1</th>\n",
       "      <td>380000.0</td>\n",
       "      <td>sale</td>\n",
       "      <td>un s+2 à chotrana 1</td>\n",
       "      <td>ariana</td>\n",
       "      <td>chotrana 1</td>\n",
       "      <td>Cet appartement est situé à chotrana 1 dans un...</td>\n",
       "      <td>100</td>\n",
       "      <td>1.0</td>\n",
       "      <td>2</td>\n",
       "    </tr>\n",
       "    <tr>\n",
       "      <th>2</th>\n",
       "      <td>180000.0</td>\n",
       "      <td>sale</td>\n",
       "      <td>S+3 en vente</td>\n",
       "      <td>manouba</td>\n",
       "      <td>manouba ville</td>\n",
       "      <td>Cet appartement se situe à Dyar ben Mahmoud Ag...</td>\n",
       "      <td>130</td>\n",
       "      <td>1.0</td>\n",
       "      <td>4</td>\n",
       "    </tr>\n",
       "    <tr>\n",
       "      <th>3</th>\n",
       "      <td>240000.0</td>\n",
       "      <td>sale</td>\n",
       "      <td>Charmant S+2 avec grande terrasse à vendre</td>\n",
       "      <td>tunis</td>\n",
       "      <td>gammarth</td>\n",
       "      <td>À vendre : Appartement S+2 avec une grande ter...</td>\n",
       "      <td>120</td>\n",
       "      <td>1.0</td>\n",
       "      <td>1</td>\n",
       "    </tr>\n",
       "    <tr>\n",
       "      <th>4</th>\n",
       "      <td>365000.0</td>\n",
       "      <td>sale</td>\n",
       "      <td>appartement s3 ennaser bon prix</td>\n",
       "      <td>ariana</td>\n",
       "      <td>ennasr 2</td>\n",
       "      <td>a vendre a ennaser un appartement s3 au 5éme é...</td>\n",
       "      <td>148</td>\n",
       "      <td>2.0</td>\n",
       "      <td>03</td>\n",
       "    </tr>\n",
       "  </tbody>\n",
       "</table>\n",
       "</div>"
      ],
      "text/plain": [
       "      price transaction                                       title     city  \\\n",
       "0  490000.0        sale               S+3 avec jardin à chotrana 1    ariana   \n",
       "1  380000.0        sale                         un s+2 à chotrana 1   ariana   \n",
       "2  180000.0        sale                                S+3 en vente  manouba   \n",
       "3  240000.0        sale  Charmant S+2 avec grande terrasse à vendre    tunis   \n",
       "4  365000.0        sale            appartement s3 ennaser bon prix    ariana   \n",
       "\n",
       "          region                                        description surface  \\\n",
       "0     chotrana 1  Cet appartement est situé au rez-de-chaussée d...     141   \n",
       "1     chotrana 1  Cet appartement est situé à chotrana 1 dans un...     100   \n",
       "2  manouba ville  Cet appartement se situe à Dyar ben Mahmoud Ag...     130   \n",
       "3       gammarth  À vendre : Appartement S+2 avec une grande ter...     120   \n",
       "4       ennasr 2  a vendre a ennaser un appartement s3 au 5éme é...     148   \n",
       "\n",
       "   bathrooms rooms  \n",
       "0        3.0     3  \n",
       "1        1.0     2  \n",
       "2        1.0     4  \n",
       "3        1.0     1  \n",
       "4        2.0    03  "
      ]
     },
     "execution_count": 47,
     "metadata": {},
     "output_type": "execute_result"
    }
   ],
   "source": [
    "df.head()"
   ]
  },
  {
   "cell_type": "markdown",
   "metadata": {},
   "source": [
    "### 6. Save Changes"
   ]
  },
  {
   "cell_type": "code",
   "execution_count": 53,
   "metadata": {},
   "outputs": [],
   "source": [
    "df.to_csv(file_path,index=False,header=True)"
   ]
  },
  {
   "cell_type": "code",
   "execution_count": null,
   "metadata": {},
   "outputs": [],
   "source": []
  }
 ],
 "metadata": {
  "kernelspec": {
   "display_name": "Housing_pricing",
   "language": "python",
   "name": "python3"
  },
  "language_info": {
   "codemirror_mode": {
    "name": "ipython",
    "version": 3
   },
   "file_extension": ".py",
   "mimetype": "text/x-python",
   "name": "python",
   "nbconvert_exporter": "python",
   "pygments_lexer": "ipython3",
   "version": "3.12.7"
  }
 },
 "nbformat": 4,
 "nbformat_minor": 2
}
