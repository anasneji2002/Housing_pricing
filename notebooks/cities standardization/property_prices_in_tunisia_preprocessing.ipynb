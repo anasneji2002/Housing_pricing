{
 "cells": [
  {
   "cell_type": "code",
   "execution_count": 1,
   "metadata": {},
   "outputs": [],
   "source": [
    "import pandas as pd"
   ]
  },
  {
   "cell_type": "code",
   "execution_count": 2,
   "metadata": {},
   "outputs": [
    {
     "data": {
      "text/html": [
       "<div>\n",
       "<style scoped>\n",
       "    .dataframe tbody tr th:only-of-type {\n",
       "        vertical-align: middle;\n",
       "    }\n",
       "\n",
       "    .dataframe tbody tr th {\n",
       "        vertical-align: top;\n",
       "    }\n",
       "\n",
       "    .dataframe thead th {\n",
       "        text-align: right;\n",
       "    }\n",
       "</style>\n",
       "<table border=\"1\" class=\"dataframe\">\n",
       "  <thead>\n",
       "    <tr style=\"text-align: right;\">\n",
       "      <th></th>\n",
       "      <th>category</th>\n",
       "      <th>room_count</th>\n",
       "      <th>bathroom_count</th>\n",
       "      <th>size</th>\n",
       "      <th>type</th>\n",
       "      <th>price</th>\n",
       "      <th>city</th>\n",
       "      <th>region</th>\n",
       "      <th>log_price</th>\n",
       "    </tr>\n",
       "  </thead>\n",
       "  <tbody>\n",
       "    <tr>\n",
       "      <th>0</th>\n",
       "      <td>Appartements</td>\n",
       "      <td>2.0</td>\n",
       "      <td>2.0</td>\n",
       "      <td>113.0</td>\n",
       "      <td>À Vendre</td>\n",
       "      <td>170000.0</td>\n",
       "      <td>Ariana</td>\n",
       "      <td>Ariana Ville</td>\n",
       "      <td>5.230449</td>\n",
       "    </tr>\n",
       "    <tr>\n",
       "      <th>1</th>\n",
       "      <td>Appartements</td>\n",
       "      <td>3.0</td>\n",
       "      <td>2.0</td>\n",
       "      <td>138.0</td>\n",
       "      <td>À Vendre</td>\n",
       "      <td>340000.0</td>\n",
       "      <td>Ariana</td>\n",
       "      <td>Jardins D'el Menzah</td>\n",
       "      <td>5.531479</td>\n",
       "    </tr>\n",
       "    <tr>\n",
       "      <th>2</th>\n",
       "      <td>Appartements</td>\n",
       "      <td>2.0</td>\n",
       "      <td>1.0</td>\n",
       "      <td>80.0</td>\n",
       "      <td>À Vendre</td>\n",
       "      <td>230000.0</td>\n",
       "      <td>Ariana</td>\n",
       "      <td>Ennasr</td>\n",
       "      <td>5.361728</td>\n",
       "    </tr>\n",
       "    <tr>\n",
       "      <th>3</th>\n",
       "      <td>Appartements</td>\n",
       "      <td>4.0</td>\n",
       "      <td>2.0</td>\n",
       "      <td>200.0</td>\n",
       "      <td>À Vendre</td>\n",
       "      <td>440000.0</td>\n",
       "      <td>Ariana</td>\n",
       "      <td>Ennasr</td>\n",
       "      <td>5.643453</td>\n",
       "    </tr>\n",
       "    <tr>\n",
       "      <th>4</th>\n",
       "      <td>Appartements</td>\n",
       "      <td>4.0</td>\n",
       "      <td>1.0</td>\n",
       "      <td>160.0</td>\n",
       "      <td>À Vendre</td>\n",
       "      <td>310000.0</td>\n",
       "      <td>Ariana</td>\n",
       "      <td>Autres villes</td>\n",
       "      <td>5.491362</td>\n",
       "    </tr>\n",
       "  </tbody>\n",
       "</table>\n",
       "</div>"
      ],
      "text/plain": [
       "       category  room_count  bathroom_count   size      type     price  \\\n",
       "0  Appartements         2.0             2.0  113.0  À Vendre  170000.0   \n",
       "1  Appartements         3.0             2.0  138.0  À Vendre  340000.0   \n",
       "2  Appartements         2.0             1.0   80.0  À Vendre  230000.0   \n",
       "3  Appartements         4.0             2.0  200.0  À Vendre  440000.0   \n",
       "4  Appartements         4.0             1.0  160.0  À Vendre  310000.0   \n",
       "\n",
       "     city               region  log_price  \n",
       "0  Ariana         Ariana Ville   5.230449  \n",
       "1  Ariana  Jardins D'el Menzah   5.531479  \n",
       "2  Ariana               Ennasr   5.361728  \n",
       "3  Ariana               Ennasr   5.643453  \n",
       "4  Ariana        Autres villes   5.491362  "
      ]
     },
     "execution_count": 2,
     "metadata": {},
     "output_type": "execute_result"
    }
   ],
   "source": [
    "file_path = r\"C:\\Users\\rezgu\\OneDrive\\Bureau\\Housing_pricing\\data\\raw\\Property Prices in Tunisia.csv\"\n",
    "df = pd.read_csv(file_path)\n",
    "df.head()"
   ]
  },
  {
   "cell_type": "code",
   "execution_count": 3,
   "metadata": {},
   "outputs": [
    {
     "data": {
      "text/plain": [
       "array(['Ariana', 'Ben arous', 'La manouba', 'Tunis'], dtype=object)"
      ]
     },
     "execution_count": 3,
     "metadata": {},
     "output_type": "execute_result"
    }
   ],
   "source": [
    "df['city'].unique()"
   ]
  },
  {
   "cell_type": "code",
   "execution_count": 4,
   "metadata": {},
   "outputs": [
    {
     "data": {
      "text/plain": [
       "array(['Ariana Ville', \"Jardins D'el Menzah\", 'Ennasr', 'Autres villes',\n",
       "       'Borj Louzir', 'La Soukra', 'Ghazela', 'Ariana', 'Chotrana',\n",
       "       'Raoued', 'Mnihla', 'Ettadhamen', 'Sidi Thabet', 'Medina Jedida',\n",
       "       'Fouchana', 'Mornag', 'El Mourouj', 'Hammam Chott', 'Ezzahra',\n",
       "       'Boumhel', 'Hammam Lif', 'Ben arous', 'Radès', 'Mégrine',\n",
       "       'Manouba Ville', 'Oued Ellil', 'Denden', 'La manouba',\n",
       "       'Douar Hicher', 'Le Bardo', \"L'aouina\", 'La Marsa', 'La Goulette',\n",
       "       'Carthage', 'Agba', 'Ettahrir', 'Menzah', 'Tunis', 'Sidi Daoud',\n",
       "       'Le Kram', 'El Kabaria', 'El Ouardia', 'Manar', 'Ezzouhour',\n",
       "       'Centre Urbain Nord', 'Médina', 'Centre Ville - Lafayette',\n",
       "       'Sidi Bou Said', 'Hraïria', 'Sidi Hassine', 'Mutuelleville'],\n",
       "      dtype=object)"
      ]
     },
     "execution_count": 4,
     "metadata": {},
     "output_type": "execute_result"
    }
   ],
   "source": [
    "df['region'].unique()"
   ]
  },
  {
   "cell_type": "code",
   "execution_count": 5,
   "metadata": {},
   "outputs": [],
   "source": [
    "def process_city(row):\n",
    "    if row['city'] == 'Tunis':\n",
    "        return 'tunis'\n",
    "    elif row['city'] == 'Ariana':\n",
    "        return 'ariana'\n",
    "    elif row['city'] == 'Ben arous':\n",
    "        return 'ben arous'\n",
    "    elif row['city'] == 'La manouba':\n",
    "        return 'manouba'"
   ]
  },
  {
   "cell_type": "code",
   "execution_count": 6,
   "metadata": {},
   "outputs": [],
   "source": [
    "def process_region(row):\n",
    "    region_mapping = {\n",
    "        \"Ariana Ville\": \"ariana ville\",\n",
    "        \"Jardins D'el Menzah\": \"jardins el menzah\",\n",
    "        \"Ennasr\": \"ennasr\",\n",
    "        \"Autres villes\": \"autres villes\",\n",
    "        \"Borj Louzir\": \"borj louzir\",\n",
    "        \"La Soukra\": \"soukra\",\n",
    "        \"Ghazela\": \"ghazela\",\n",
    "        \"Ariana\": \"ariana\",\n",
    "        \"Chotrana\": \"chotrana\",\n",
    "        \"Raoued\": \"raoued\",\n",
    "        \"Mnihla\": \"mnihla\",\n",
    "        \"Ettadhamen\": \"ettadhamen\",\n",
    "        \"Sidi Thabet\": \"sidi thabet\",\n",
    "        \"Medina Jedida\": \"medina jedida\",\n",
    "        \"Fouchana\": \"fouchana\",\n",
    "        \"Mornag\": \"mornag\",\n",
    "        \"El Mourouj\": \"mourouj\",\n",
    "        \"Hammam Chott\": \"hammam chott\",\n",
    "        \"Ezzahra\": \"ezzahra\",\n",
    "        \"Boumhel\": \"boumhel\",\n",
    "        \"Hammam Lif\": \"hammam lif\",\n",
    "        \"Ben arous\": \"ben arous\",\n",
    "        \"Radès\": \"rades\",\n",
    "        \"Mégrine\": \"megrine\",\n",
    "        \"Manouba Ville\": \"manouba ville\",\n",
    "        \"Oued Ellil\": \"oued ellil\",\n",
    "        \"Denden\": \"denden\",\n",
    "        \"La manouba\": \"manouba\",\n",
    "        \"Douar Hicher\": \"douar hicher\",\n",
    "        \"Le Bardo\": \"bardo\",\n",
    "        \"L'aouina\": \"aouina\",\n",
    "        \"La Marsa\": \"marsa\",\n",
    "        \"La Goulette\": \"la goulette\",\n",
    "        \"Carthage\": \"carthage\",\n",
    "        \"Agba\": \"agba\",\n",
    "        \"Ettahrir\": \"ettahrir\",\n",
    "        \"Menzah\": \"menzah\",\n",
    "        \"Tunis\": \"tunis\",\n",
    "        \"Sidi Daoud\": \"sidi daoud\",\n",
    "        \"Le Kram\": \"kram\",\n",
    "        \"El Kabaria\": \"kabaria\",\n",
    "        \"El Ouardia\": \"ouardia\",\n",
    "        \"Manar\": \"manar\",\n",
    "        \"Ezzouhour\": \"ezzouhour\",\n",
    "        \"Centre Urbain Nord\": \"centre urbain nord\",\n",
    "        \"Médina\": \"médina\",\n",
    "        \"Centre Ville - Lafayette\": \"lafayette\",\n",
    "        \"Sidi Bou Said\": \"sidi bou said\",\n",
    "        \"Hraïria\": \"hraïria\",\n",
    "        \"Sidi Hassine\": \"sidi hassine\",\n",
    "        \"Mutuelleville\": \"mutuelleville\"\n",
    "    }\n",
    "\n",
    "    # Return the mapped region name, or the original if not in the mapping\n",
    "    return region_mapping.get(row['region'], row['region'])\n"
   ]
  },
  {
   "cell_type": "code",
   "execution_count": 7,
   "metadata": {},
   "outputs": [],
   "source": [
    "df['city']=df.apply(process_city,axis=1)"
   ]
  },
  {
   "cell_type": "code",
   "execution_count": 8,
   "metadata": {},
   "outputs": [],
   "source": [
    "df['region']=df.apply(process_region,axis=1)"
   ]
  },
  {
   "cell_type": "code",
   "execution_count": 9,
   "metadata": {},
   "outputs": [
    {
     "data": {
      "text/html": [
       "<div>\n",
       "<style scoped>\n",
       "    .dataframe tbody tr th:only-of-type {\n",
       "        vertical-align: middle;\n",
       "    }\n",
       "\n",
       "    .dataframe tbody tr th {\n",
       "        vertical-align: top;\n",
       "    }\n",
       "\n",
       "    .dataframe thead th {\n",
       "        text-align: right;\n",
       "    }\n",
       "</style>\n",
       "<table border=\"1\" class=\"dataframe\">\n",
       "  <thead>\n",
       "    <tr style=\"text-align: right;\">\n",
       "      <th></th>\n",
       "      <th>category</th>\n",
       "      <th>room_count</th>\n",
       "      <th>bathroom_count</th>\n",
       "      <th>size</th>\n",
       "      <th>type</th>\n",
       "      <th>price</th>\n",
       "      <th>city</th>\n",
       "      <th>region</th>\n",
       "      <th>log_price</th>\n",
       "    </tr>\n",
       "  </thead>\n",
       "  <tbody>\n",
       "    <tr>\n",
       "      <th>0</th>\n",
       "      <td>Appartements</td>\n",
       "      <td>2.0</td>\n",
       "      <td>2.0</td>\n",
       "      <td>113.0</td>\n",
       "      <td>À Vendre</td>\n",
       "      <td>170000.0</td>\n",
       "      <td>ariana</td>\n",
       "      <td>ariana ville</td>\n",
       "      <td>5.230449</td>\n",
       "    </tr>\n",
       "    <tr>\n",
       "      <th>1</th>\n",
       "      <td>Appartements</td>\n",
       "      <td>3.0</td>\n",
       "      <td>2.0</td>\n",
       "      <td>138.0</td>\n",
       "      <td>À Vendre</td>\n",
       "      <td>340000.0</td>\n",
       "      <td>ariana</td>\n",
       "      <td>jardins el menzah</td>\n",
       "      <td>5.531479</td>\n",
       "    </tr>\n",
       "    <tr>\n",
       "      <th>2</th>\n",
       "      <td>Appartements</td>\n",
       "      <td>2.0</td>\n",
       "      <td>1.0</td>\n",
       "      <td>80.0</td>\n",
       "      <td>À Vendre</td>\n",
       "      <td>230000.0</td>\n",
       "      <td>ariana</td>\n",
       "      <td>ennasr</td>\n",
       "      <td>5.361728</td>\n",
       "    </tr>\n",
       "    <tr>\n",
       "      <th>3</th>\n",
       "      <td>Appartements</td>\n",
       "      <td>4.0</td>\n",
       "      <td>2.0</td>\n",
       "      <td>200.0</td>\n",
       "      <td>À Vendre</td>\n",
       "      <td>440000.0</td>\n",
       "      <td>ariana</td>\n",
       "      <td>ennasr</td>\n",
       "      <td>5.643453</td>\n",
       "    </tr>\n",
       "    <tr>\n",
       "      <th>4</th>\n",
       "      <td>Appartements</td>\n",
       "      <td>4.0</td>\n",
       "      <td>1.0</td>\n",
       "      <td>160.0</td>\n",
       "      <td>À Vendre</td>\n",
       "      <td>310000.0</td>\n",
       "      <td>ariana</td>\n",
       "      <td>autres villes</td>\n",
       "      <td>5.491362</td>\n",
       "    </tr>\n",
       "  </tbody>\n",
       "</table>\n",
       "</div>"
      ],
      "text/plain": [
       "       category  room_count  bathroom_count   size      type     price  \\\n",
       "0  Appartements         2.0             2.0  113.0  À Vendre  170000.0   \n",
       "1  Appartements         3.0             2.0  138.0  À Vendre  340000.0   \n",
       "2  Appartements         2.0             1.0   80.0  À Vendre  230000.0   \n",
       "3  Appartements         4.0             2.0  200.0  À Vendre  440000.0   \n",
       "4  Appartements         4.0             1.0  160.0  À Vendre  310000.0   \n",
       "\n",
       "     city             region  log_price  \n",
       "0  ariana       ariana ville   5.230449  \n",
       "1  ariana  jardins el menzah   5.531479  \n",
       "2  ariana             ennasr   5.361728  \n",
       "3  ariana             ennasr   5.643453  \n",
       "4  ariana      autres villes   5.491362  "
      ]
     },
     "execution_count": 9,
     "metadata": {},
     "output_type": "execute_result"
    }
   ],
   "source": [
    "df.head()"
   ]
  },
  {
   "cell_type": "code",
   "execution_count": 10,
   "metadata": {},
   "outputs": [],
   "source": [
    "df.to_csv(file_path)"
   ]
  },
  {
   "cell_type": "code",
   "execution_count": null,
   "metadata": {},
   "outputs": [],
   "source": []
  }
 ],
 "metadata": {
  "kernelspec": {
   "display_name": "Housing_pricing",
   "language": "python",
   "name": "python3"
  },
  "language_info": {
   "codemirror_mode": {
    "name": "ipython",
    "version": 3
   },
   "file_extension": ".py",
   "mimetype": "text/x-python",
   "name": "python",
   "nbconvert_exporter": "python",
   "pygments_lexer": "ipython3",
   "version": "3.12.7"
  }
 },
 "nbformat": 4,
 "nbformat_minor": 2
}
