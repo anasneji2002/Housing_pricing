{
 "cells": [
  {
   "cell_type": "code",
   "execution_count": 1,
   "metadata": {},
   "outputs": [],
   "source": [
    "import pandas as pd"
   ]
  },
  {
   "cell_type": "code",
   "execution_count": 10,
   "metadata": {},
   "outputs": [
    {
     "data": {
      "text/html": [
       "<div>\n",
       "<style scoped>\n",
       "    .dataframe tbody tr th:only-of-type {\n",
       "        vertical-align: middle;\n",
       "    }\n",
       "\n",
       "    .dataframe tbody tr th {\n",
       "        vertical-align: top;\n",
       "    }\n",
       "\n",
       "    .dataframe thead th {\n",
       "        text-align: right;\n",
       "    }\n",
       "</style>\n",
       "<table border=\"1\" class=\"dataframe\">\n",
       "  <thead>\n",
       "    <tr style=\"text-align: right;\">\n",
       "      <th></th>\n",
       "      <th>Gouvernorat</th>\n",
       "      <th>Nature</th>\n",
       "      <th>Type</th>\n",
       "      <th>Description</th>\n",
       "      <th>Price</th>\n",
       "      <th>Insertion Date</th>\n",
       "    </tr>\n",
       "  </thead>\n",
       "  <tbody>\n",
       "    <tr>\n",
       "      <th>0</th>\n",
       "      <td>Tunis</td>\n",
       "      <td>Vente</td>\n",
       "      <td>Appart. 2 pièces');</td>\n",
       "      <td>S plus 1 cite el wahat tel 58258423 fb6935 con...</td>\n",
       "      <td>190000.0</td>\n",
       "      <td>14/11/2024 12:26</td>\n",
       "    </tr>\n",
       "    <tr>\n",
       "      <th>1</th>\n",
       "      <td>Tunis</td>\n",
       "      <td>Vente</td>\n",
       "      <td>Appart. 2 pièces');</td>\n",
       "      <td>S plus 1 cite el wahat tel 58258423 fb6935 con...</td>\n",
       "      <td>190000.0</td>\n",
       "      <td>14/11/2024 12:26</td>\n",
       "    </tr>\n",
       "    <tr>\n",
       "      <th>2</th>\n",
       "      <td>Ben arous</td>\n",
       "      <td>Vente</td>\n",
       "      <td>Appart. 3 pièces');</td>\n",
       "      <td>Appartement nawres agence immobilière elkarama...</td>\n",
       "      <td>107000.0</td>\n",
       "      <td>24/08/2024 19:18</td>\n",
       "    </tr>\n",
       "    <tr>\n",
       "      <th>3</th>\n",
       "      <td>Tunis</td>\n",
       "      <td>Vente</td>\n",
       "      <td>Appart. 4 pièces');</td>\n",
       "      <td>S plus 3 a el manar 1 wb3822 l agence immo con...</td>\n",
       "      <td>245000.0</td>\n",
       "      <td>27/11/2024 11:15</td>\n",
       "    </tr>\n",
       "    <tr>\n",
       "      <th>4</th>\n",
       "      <td>Ariana</td>\n",
       "      <td>Vente</td>\n",
       "      <td>Appart. 3 pièces');</td>\n",
       "      <td>Des s2 neufs à la nouvelle soukra agence immob...</td>\n",
       "      <td>330000.0</td>\n",
       "      <td>18/07/2024 13:18</td>\n",
       "    </tr>\n",
       "  </tbody>\n",
       "</table>\n",
       "</div>"
      ],
      "text/plain": [
       "  Gouvernorat Nature                 Type  \\\n",
       "0       Tunis  Vente  Appart. 2 pièces');   \n",
       "1       Tunis  Vente  Appart. 2 pièces');   \n",
       "2   Ben arous  Vente  Appart. 3 pièces');   \n",
       "3       Tunis  Vente  Appart. 4 pièces');   \n",
       "4      Ariana  Vente  Appart. 3 pièces');   \n",
       "\n",
       "                                         Description     Price  \\\n",
       "0  S plus 1 cite el wahat tel 58258423 fb6935 con...  190000.0   \n",
       "1  S plus 1 cite el wahat tel 58258423 fb6935 con...  190000.0   \n",
       "2  Appartement nawres agence immobilière elkarama...  107000.0   \n",
       "3  S plus 3 a el manar 1 wb3822 l agence immo con...  245000.0   \n",
       "4  Des s2 neufs à la nouvelle soukra agence immob...  330000.0   \n",
       "\n",
       "     Insertion Date  \n",
       "0  14/11/2024 12:26  \n",
       "1  14/11/2024 12:26  \n",
       "2  24/08/2024 19:18  \n",
       "3  27/11/2024 11:15  \n",
       "4  18/07/2024 13:18  "
      ]
     },
     "execution_count": 10,
     "metadata": {},
     "output_type": "execute_result"
    }
   ],
   "source": [
    "file_path = r\"C:\\Users\\rezgu\\OneDrive\\Bureau\\Housing_pricing\\data\\raw\\tunisie_annonce_data (1).csv\"\n",
    "df = pd.read_csv(file_path)\n",
    "df.head()"
   ]
  },
  {
   "cell_type": "code",
   "execution_count": 3,
   "metadata": {},
   "outputs": [
    {
     "data": {
      "text/plain": [
       "array(['Tunis', 'Ben arous', 'Ariana', 'Manouba'], dtype=object)"
      ]
     },
     "execution_count": 3,
     "metadata": {},
     "output_type": "execute_result"
    }
   ],
   "source": [
    "df['Gouvernorat'].unique()"
   ]
  },
  {
   "cell_type": "code",
   "execution_count": 9,
   "metadata": {},
   "outputs": [],
   "source": [
    "def process_city(row):\n",
    "    if row['Gouvernorat'] == 'Tunis':\n",
    "        return 'tunis'\n",
    "    elif row['Gouvernorat'] == 'Ariana':\n",
    "        return 'ariana'\n",
    "    elif row['Gouvernorat'] == 'Ben arous':\n",
    "        return 'ben arous'\n",
    "    elif row['Gouvernorat'] == 'Manouba':\n",
    "        return 'manouba'"
   ]
  },
  {
   "cell_type": "code",
   "execution_count": 11,
   "metadata": {},
   "outputs": [],
   "source": [
    "df['Gouvernorat']=df.apply(process_city,axis=1)"
   ]
  },
  {
   "cell_type": "code",
   "execution_count": 12,
   "metadata": {},
   "outputs": [
    {
     "data": {
      "text/html": [
       "<div>\n",
       "<style scoped>\n",
       "    .dataframe tbody tr th:only-of-type {\n",
       "        vertical-align: middle;\n",
       "    }\n",
       "\n",
       "    .dataframe tbody tr th {\n",
       "        vertical-align: top;\n",
       "    }\n",
       "\n",
       "    .dataframe thead th {\n",
       "        text-align: right;\n",
       "    }\n",
       "</style>\n",
       "<table border=\"1\" class=\"dataframe\">\n",
       "  <thead>\n",
       "    <tr style=\"text-align: right;\">\n",
       "      <th></th>\n",
       "      <th>Gouvernorat</th>\n",
       "      <th>Nature</th>\n",
       "      <th>Type</th>\n",
       "      <th>Description</th>\n",
       "      <th>Price</th>\n",
       "      <th>Insertion Date</th>\n",
       "    </tr>\n",
       "  </thead>\n",
       "  <tbody>\n",
       "    <tr>\n",
       "      <th>0</th>\n",
       "      <td>tunis</td>\n",
       "      <td>Vente</td>\n",
       "      <td>Appart. 2 pièces');</td>\n",
       "      <td>S plus 1 cite el wahat tel 58258423 fb6935 con...</td>\n",
       "      <td>190000.0</td>\n",
       "      <td>14/11/2024 12:26</td>\n",
       "    </tr>\n",
       "    <tr>\n",
       "      <th>1</th>\n",
       "      <td>tunis</td>\n",
       "      <td>Vente</td>\n",
       "      <td>Appart. 2 pièces');</td>\n",
       "      <td>S plus 1 cite el wahat tel 58258423 fb6935 con...</td>\n",
       "      <td>190000.0</td>\n",
       "      <td>14/11/2024 12:26</td>\n",
       "    </tr>\n",
       "    <tr>\n",
       "      <th>2</th>\n",
       "      <td>ben arous</td>\n",
       "      <td>Vente</td>\n",
       "      <td>Appart. 3 pièces');</td>\n",
       "      <td>Appartement nawres agence immobilière elkarama...</td>\n",
       "      <td>107000.0</td>\n",
       "      <td>24/08/2024 19:18</td>\n",
       "    </tr>\n",
       "    <tr>\n",
       "      <th>3</th>\n",
       "      <td>tunis</td>\n",
       "      <td>Vente</td>\n",
       "      <td>Appart. 4 pièces');</td>\n",
       "      <td>S plus 3 a el manar 1 wb3822 l agence immo con...</td>\n",
       "      <td>245000.0</td>\n",
       "      <td>27/11/2024 11:15</td>\n",
       "    </tr>\n",
       "    <tr>\n",
       "      <th>4</th>\n",
       "      <td>ariana</td>\n",
       "      <td>Vente</td>\n",
       "      <td>Appart. 3 pièces');</td>\n",
       "      <td>Des s2 neufs à la nouvelle soukra agence immob...</td>\n",
       "      <td>330000.0</td>\n",
       "      <td>18/07/2024 13:18</td>\n",
       "    </tr>\n",
       "  </tbody>\n",
       "</table>\n",
       "</div>"
      ],
      "text/plain": [
       "  Gouvernorat Nature                 Type  \\\n",
       "0       tunis  Vente  Appart. 2 pièces');   \n",
       "1       tunis  Vente  Appart. 2 pièces');   \n",
       "2   ben arous  Vente  Appart. 3 pièces');   \n",
       "3       tunis  Vente  Appart. 4 pièces');   \n",
       "4      ariana  Vente  Appart. 3 pièces');   \n",
       "\n",
       "                                         Description     Price  \\\n",
       "0  S plus 1 cite el wahat tel 58258423 fb6935 con...  190000.0   \n",
       "1  S plus 1 cite el wahat tel 58258423 fb6935 con...  190000.0   \n",
       "2  Appartement nawres agence immobilière elkarama...  107000.0   \n",
       "3  S plus 3 a el manar 1 wb3822 l agence immo con...  245000.0   \n",
       "4  Des s2 neufs à la nouvelle soukra agence immob...  330000.0   \n",
       "\n",
       "     Insertion Date  \n",
       "0  14/11/2024 12:26  \n",
       "1  14/11/2024 12:26  \n",
       "2  24/08/2024 19:18  \n",
       "3  27/11/2024 11:15  \n",
       "4  18/07/2024 13:18  "
      ]
     },
     "execution_count": 12,
     "metadata": {},
     "output_type": "execute_result"
    }
   ],
   "source": [
    "df.head()"
   ]
  },
  {
   "cell_type": "code",
   "execution_count": 13,
   "metadata": {},
   "outputs": [],
   "source": [
    "df.to_csv(file_path)"
   ]
  }
 ],
 "metadata": {
  "kernelspec": {
   "display_name": "Housing_pricing",
   "language": "python",
   "name": "python3"
  },
  "language_info": {
   "codemirror_mode": {
    "name": "ipython",
    "version": 3
   },
   "file_extension": ".py",
   "mimetype": "text/x-python",
   "name": "python",
   "nbconvert_exporter": "python",
   "pygments_lexer": "ipython3",
   "version": "3.12.7"
  }
 },
 "nbformat": 4,
 "nbformat_minor": 2
}
