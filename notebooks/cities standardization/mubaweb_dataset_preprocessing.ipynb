{
 "cells": [
  {
   "cell_type": "markdown",
   "metadata": {},
   "source": [
    "# Mubaweb.csv cities standarzation\n",
    "\n",
    "### this file contains:\n",
    " - standardizing cities names in mubaweb dataset\n",
    " - transforming the city name to the proper encoding \n"
   ]
  },
  {
   "cell_type": "code",
   "execution_count": 8,
   "metadata": {},
   "outputs": [],
   "source": [
    "import pandas as pd\n",
    "import json"
   ]
  },
  {
   "cell_type": "code",
   "execution_count": 2,
   "metadata": {},
   "outputs": [
    {
     "data": {
      "text/html": [
       "<div>\n",
       "<style scoped>\n",
       "    .dataframe tbody tr th:only-of-type {\n",
       "        vertical-align: middle;\n",
       "    }\n",
       "\n",
       "    .dataframe tbody tr th {\n",
       "        vertical-align: top;\n",
       "    }\n",
       "\n",
       "    .dataframe thead th {\n",
       "        text-align: right;\n",
       "    }\n",
       "</style>\n",
       "<table border=\"1\" class=\"dataframe\">\n",
       "  <thead>\n",
       "    <tr style=\"text-align: right;\">\n",
       "      <th></th>\n",
       "      <th>Title</th>\n",
       "      <th>URL</th>\n",
       "      <th>Price</th>\n",
       "      <th>Surface</th>\n",
       "      <th>Pieces</th>\n",
       "      <th>Rooms</th>\n",
       "      <th>Bathrooms</th>\n",
       "      <th>Location</th>\n",
       "      <th>Description</th>\n",
       "      <th>Type</th>\n",
       "      <th>Condition</th>\n",
       "      <th>Amenities</th>\n",
       "      <th>Published</th>\n",
       "    </tr>\n",
       "  </thead>\n",
       "  <tbody>\n",
       "    <tr>\n",
       "      <th>0</th>\n",
       "      <td>S3 de 147 m carre</td>\n",
       "      <td>https://www.mubawab.tn/fr/a/7987081/s3-de-147-...</td>\n",
       "      <td>480 000 TND</td>\n",
       "      <td>147m²</td>\n",
       "      <td>4 Pièces</td>\n",
       "      <td>3 Chambres</td>\n",
       "      <td>2 Salles de bains</td>\n",
       "      <td>Les Jardins d'El Menzah 2 à\\n\\t\\t\\t\\t\\t\\t\\tAri...</td>\n",
       "      <td>A VENDRE APPARTEMENT EN S3 DE 147 m .L'ENTRÉE ...</td>\n",
       "      <td>Appartement</td>\n",
       "      <td>Nouveau</td>\n",
       "      <td>Terrasse, Ascenseur, Vue sur les montagnes, Co...</td>\n",
       "      <td>Publié aujourdhui</td>\n",
       "    </tr>\n",
       "    <tr>\n",
       "      <th>1</th>\n",
       "      <td>Magnifique appartement bien sécurisé</td>\n",
       "      <td>https://www.mubawab.tn/fr/a/8043292/magnifique...</td>\n",
       "      <td>410 000 TND</td>\n",
       "      <td>138m²</td>\n",
       "      <td>5 Pièces</td>\n",
       "      <td>3 Chambres</td>\n",
       "      <td>1 Salle de bain</td>\n",
       "      <td>Ariana à\\n\\t\\t\\t\\t\\t\\t\\tAriana Ville</td>\n",
       "      <td>Cité ghazella a vendre un magnifique apparteme...</td>\n",
       "      <td>Appartement</td>\n",
       "      <td>Bon état</td>\n",
       "      <td>NaN</td>\n",
       "      <td>Publié aujourdhui</td>\n",
       "    </tr>\n",
       "    <tr>\n",
       "      <th>2</th>\n",
       "      <td>Appartement s3 a vendre à Ennaser</td>\n",
       "      <td>https://www.mubawab.tn/fr/a/8025448/appartemen...</td>\n",
       "      <td>389 000 TND</td>\n",
       "      <td>125m²</td>\n",
       "      <td>4 Pièces</td>\n",
       "      <td>3 Chambres</td>\n",
       "      <td>2 Salles de bains</td>\n",
       "      <td>Cité Ennasr 1 à\\n\\t\\t\\t\\t\\t\\t\\tAriana Ville</td>\n",
       "      <td>Sweet Home vous propose à la Vente un appartem...</td>\n",
       "      <td>Appartement</td>\n",
       "      <td>Bon état</td>\n",
       "      <td>Ascenseur, Concierge, Climatisation, Chauffage...</td>\n",
       "      <td>Publié aujourdhui</td>\n",
       "    </tr>\n",
       "    <tr>\n",
       "      <th>3</th>\n",
       "      <td>S1 à vendre _ Résidence La Rose 2</td>\n",
       "      <td>https://www.mubawab.tn/fr/pa/7458624/s1-%C3%A0...</td>\n",
       "      <td>173 875 TND</td>\n",
       "      <td>69m²</td>\n",
       "      <td>2 Pièces</td>\n",
       "      <td>1 Chambre</td>\n",
       "      <td>1 Salle de bain</td>\n",
       "      <td>Ariana à\\n\\t\\t\\t\\t\\t\\t\\tAriana Ville</td>\n",
       "      <td>Située dans un emplacement idéal sur un axe bi...</td>\n",
       "      <td>Appartement</td>\n",
       "      <td>Nouveau</td>\n",
       "      <td>Garage, Sécurité</td>\n",
       "      <td>Publié aujourdhui</td>\n",
       "    </tr>\n",
       "    <tr>\n",
       "      <th>4</th>\n",
       "      <td>Un S3 à Vendre</td>\n",
       "      <td>https://www.mubawab.tn/fr/a/8026881/un-s3-%C3%...</td>\n",
       "      <td>598 000 TND</td>\n",
       "      <td>194m²</td>\n",
       "      <td>4 Pièces</td>\n",
       "      <td>3 Chambres</td>\n",
       "      <td>2 Salles de bains</td>\n",
       "      <td>Cité Ennasr 2 à\\n\\t\\t\\t\\t\\t\\t\\tAriana Ville</td>\n",
       "      <td>Century 21 Prestige met à la vente un appartem...</td>\n",
       "      <td>Appartement</td>\n",
       "      <td>Nouveau</td>\n",
       "      <td>Terrasse, Garage, Ascenseur, Concierge, Climat...</td>\n",
       "      <td>Publié aujourdhui</td>\n",
       "    </tr>\n",
       "  </tbody>\n",
       "</table>\n",
       "</div>"
      ],
      "text/plain": [
       "                                  Title  \\\n",
       "0                     S3 de 147 m carre   \n",
       "1  Magnifique appartement bien sécurisé   \n",
       "2     Appartement s3 a vendre à Ennaser   \n",
       "3     S1 à vendre _ Résidence La Rose 2   \n",
       "4                        Un S3 à Vendre   \n",
       "\n",
       "                                                 URL        Price Surface  \\\n",
       "0  https://www.mubawab.tn/fr/a/7987081/s3-de-147-...  480 000 TND   147m²   \n",
       "1  https://www.mubawab.tn/fr/a/8043292/magnifique...  410 000 TND   138m²   \n",
       "2  https://www.mubawab.tn/fr/a/8025448/appartemen...  389 000 TND   125m²   \n",
       "3  https://www.mubawab.tn/fr/pa/7458624/s1-%C3%A0...  173 875 TND    69m²   \n",
       "4  https://www.mubawab.tn/fr/a/8026881/un-s3-%C3%...  598 000 TND   194m²   \n",
       "\n",
       "     Pieces       Rooms          Bathrooms  \\\n",
       "0  4 Pièces  3 Chambres  2 Salles de bains   \n",
       "1  5 Pièces  3 Chambres    1 Salle de bain   \n",
       "2  4 Pièces  3 Chambres  2 Salles de bains   \n",
       "3  2 Pièces   1 Chambre    1 Salle de bain   \n",
       "4  4 Pièces  3 Chambres  2 Salles de bains   \n",
       "\n",
       "                                            Location  \\\n",
       "0  Les Jardins d'El Menzah 2 à\\n\\t\\t\\t\\t\\t\\t\\tAri...   \n",
       "1               Ariana à\\n\\t\\t\\t\\t\\t\\t\\tAriana Ville   \n",
       "2        Cité Ennasr 1 à\\n\\t\\t\\t\\t\\t\\t\\tAriana Ville   \n",
       "3               Ariana à\\n\\t\\t\\t\\t\\t\\t\\tAriana Ville   \n",
       "4        Cité Ennasr 2 à\\n\\t\\t\\t\\t\\t\\t\\tAriana Ville   \n",
       "\n",
       "                                         Description         Type Condition  \\\n",
       "0  A VENDRE APPARTEMENT EN S3 DE 147 m .L'ENTRÉE ...  Appartement   Nouveau   \n",
       "1  Cité ghazella a vendre un magnifique apparteme...  Appartement  Bon état   \n",
       "2  Sweet Home vous propose à la Vente un appartem...  Appartement  Bon état   \n",
       "3  Située dans un emplacement idéal sur un axe bi...  Appartement   Nouveau   \n",
       "4  Century 21 Prestige met à la vente un appartem...  Appartement   Nouveau   \n",
       "\n",
       "                                           Amenities          Published  \n",
       "0  Terrasse, Ascenseur, Vue sur les montagnes, Co...  Publié aujourdhui  \n",
       "1                                                NaN  Publié aujourdhui  \n",
       "2  Ascenseur, Concierge, Climatisation, Chauffage...  Publié aujourdhui  \n",
       "3                                   Garage, Sécurité  Publié aujourdhui  \n",
       "4  Terrasse, Garage, Ascenseur, Concierge, Climat...  Publié aujourdhui  "
      ]
     },
     "execution_count": 2,
     "metadata": {},
     "output_type": "execute_result"
    }
   ],
   "source": [
    "file_path = r\"C:\\Users\\rezgu\\OneDrive\\Bureau\\Housing_pricing\\data\\raw\\mubaweb.csv\"\n",
    "df = pd.read_csv(file_path)\n",
    "df.head()"
   ]
  },
  {
   "cell_type": "code",
   "execution_count": 3,
   "metadata": {},
   "outputs": [
    {
     "data": {
      "text/plain": [
       "array([\"Les Jardins d'El Menzah 2 à\\n\\t\\t\\t\\t\\t\\t\\tAriana Ville\",\n",
       "       'Ariana à\\n\\t\\t\\t\\t\\t\\t\\tAriana Ville',\n",
       "       'Cité Ennasr 1 à\\n\\t\\t\\t\\t\\t\\t\\tAriana Ville',\n",
       "       'Cité Ennasr 2 à\\n\\t\\t\\t\\t\\t\\t\\tAriana Ville',\n",
       "       \"Les Jardins d'El Menzah 1 à\\n\\t\\t\\t\\t\\t\\t\\tAriana Ville\",\n",
       "       'El Menzah 7 à\\n\\t\\t\\t\\t\\t\\t\\tAriana Ville', 'Ariana Ville',\n",
       "       'El Menzah 5 à\\n\\t\\t\\t\\t\\t\\t\\tAriana Ville',\n",
       "       'Aouina à\\n\\t\\t\\t\\t\\t\\t\\tLa Marsa',\n",
       "       'La Marsa à\\n\\t\\t\\t\\t\\t\\t\\tLa Marsa', 'La Marsa',\n",
       "       'Les Berges Du Lac 2 à\\n\\t\\t\\t\\t\\t\\t\\tLa Marsa',\n",
       "       'Ain Zaghouan Nord à\\n\\t\\t\\t\\t\\t\\t\\tLa Marsa',\n",
       "       'Bhar Lazreg à\\n\\t\\t\\t\\t\\t\\t\\tLa Marsa',\n",
       "       'Cité des Juges à\\n\\t\\t\\t\\t\\t\\t\\tLa Marsa',\n",
       "       'Les Berges Du Lac 1 à\\n\\t\\t\\t\\t\\t\\t\\tLa Marsa',\n",
       "       'Cité El Hana à\\n\\t\\t\\t\\t\\t\\t\\tLa Marsa',\n",
       "       'Cité Les Pins à\\n\\t\\t\\t\\t\\t\\t\\tLa Marsa',\n",
       "       'Cité Du Stade à\\n\\t\\t\\t\\t\\t\\t\\tLa Marsa',\n",
       "       'Sidi Daoued à\\n\\t\\t\\t\\t\\t\\t\\tLa Marsa',\n",
       "       'Gammarth Supérieur à\\n\\t\\t\\t\\t\\t\\t\\tLa Marsa',\n",
       "       'Gammarth à\\n\\t\\t\\t\\t\\t\\t\\tLa Marsa',\n",
       "       'Cité El Khalil à\\n\\t\\t\\t\\t\\t\\t\\tLa Marsa',\n",
       "       'La Soukra à\\n\\t\\t\\t\\t\\t\\t\\tLa Soukra',\n",
       "       'Borj Louzir à\\n\\t\\t\\t\\t\\t\\t\\tLa Soukra',\n",
       "       'Chotrana 1 à\\n\\t\\t\\t\\t\\t\\t\\tLa Soukra',\n",
       "       'Chotrana 3 à\\n\\t\\t\\t\\t\\t\\t\\tLa Soukra',\n",
       "       'Sidi Frej à\\n\\t\\t\\t\\t\\t\\t\\tLa Soukra', 'La Soukra',\n",
       "       'Chotrana 2 à\\n\\t\\t\\t\\t\\t\\t\\tLa Soukra',\n",
       "       'Les Jardins de Carthage à\\n\\t\\t\\t\\t\\t\\t\\tLe Kram',\n",
       "       'Raoued à\\n\\t\\t\\t\\t\\t\\t\\tRaoued',\n",
       "       'Cité el Ghazela à\\n\\t\\t\\t\\t\\t\\t\\tRaoued',\n",
       "       'Cité Ennkhilet à\\n\\t\\t\\t\\t\\t\\t\\tRaoued'], dtype=object)"
      ]
     },
     "execution_count": 3,
     "metadata": {},
     "output_type": "execute_result"
    }
   ],
   "source": [
    "df['Location'].unique()"
   ]
  },
  {
   "cell_type": "code",
   "execution_count": null,
   "metadata": {},
   "outputs": [
    {
     "data": {
      "text/plain": [
       "34"
      ]
     },
     "execution_count": 5,
     "metadata": {},
     "output_type": "execute_result"
    }
   ],
   "source": [
    "len(df['Location'].unique())"
   ]
  },
  {
   "cell_type": "code",
   "execution_count": 6,
   "metadata": {},
   "outputs": [],
   "source": [
    "# Apply replacements and convert to lowercase\n",
    "df['Location'] = df['Location'].str.lower()"
   ]
  },
  {
   "cell_type": "code",
   "execution_count": 7,
   "metadata": {},
   "outputs": [
    {
     "data": {
      "text/plain": [
       "0    les jardins d'el menzah 2 à\\n\\t\\t\\t\\t\\t\\t\\tari...\n",
       "1                 ariana à\\n\\t\\t\\t\\t\\t\\t\\tariana ville\n",
       "2          cité ennasr 1 à\\n\\t\\t\\t\\t\\t\\t\\tariana ville\n",
       "3                 ariana à\\n\\t\\t\\t\\t\\t\\t\\tariana ville\n",
       "4          cité ennasr 2 à\\n\\t\\t\\t\\t\\t\\t\\tariana ville\n",
       "Name: Location, dtype: object"
      ]
     },
     "execution_count": 7,
     "metadata": {},
     "output_type": "execute_result"
    }
   ],
   "source": [
    "df[\"Location\"].head()"
   ]
  },
  {
   "cell_type": "code",
   "execution_count": 9,
   "metadata": {},
   "outputs": [],
   "source": [
    "with open(\"../../utils/city_mapping.json\", \"r\") as file:\n",
    "    city_mapping = json.load(file)"
   ]
  },
  {
   "cell_type": "code",
   "execution_count": 20,
   "metadata": {},
   "outputs": [],
   "source": [
    "def standardize_location(location):\n",
    "    for city in city_mapping.items():\n",
    "        if city[0] in location:\n",
    "            return city[1]\n",
    "    return location\n"
   ]
  },
  {
   "cell_type": "code",
   "execution_count": 21,
   "metadata": {},
   "outputs": [],
   "source": [
    "df['Location'] = df['Location'].apply(standardize_location)"
   ]
  },
  {
   "cell_type": "code",
   "execution_count": 22,
   "metadata": {},
   "outputs": [
    {
     "data": {
      "text/plain": [
       "array([14, 28, 12,  1,  4,  8, 16,  2, 11,  5, 45, 32], dtype=int64)"
      ]
     },
     "execution_count": 22,
     "metadata": {},
     "output_type": "execute_result"
    }
   ],
   "source": [
    "df['Location'].unique()"
   ]
  },
  {
   "cell_type": "code",
   "execution_count": 23,
   "metadata": {},
   "outputs": [],
   "source": [
    "df.to_csv(file_path)"
   ]
  }
 ],
 "metadata": {
  "kernelspec": {
   "display_name": "Housing_pricing",
   "language": "python",
   "name": "python3"
  },
  "language_info": {
   "codemirror_mode": {
    "name": "ipython",
    "version": 3
   },
   "file_extension": ".py",
   "mimetype": "text/x-python",
   "name": "python",
   "nbconvert_exporter": "python",
   "pygments_lexer": "ipython3",
   "version": "3.12.7"
  }
 },
 "nbformat": 4,
 "nbformat_minor": 2
}
