{
 "cells": [
  {
   "cell_type": "code",
   "execution_count": 1,
   "metadata": {},
   "outputs": [],
   "source": [
    "import pandas as pd"
   ]
  },
  {
   "cell_type": "markdown",
   "metadata": {},
   "source": [
    "### 1. Load Data"
   ]
  },
  {
   "cell_type": "code",
   "execution_count": 2,
   "metadata": {},
   "outputs": [
    {
     "data": {
      "text/html": [
       "<div>\n",
       "<style scoped>\n",
       "    .dataframe tbody tr th:only-of-type {\n",
       "        vertical-align: middle;\n",
       "    }\n",
       "\n",
       "    .dataframe tbody tr th {\n",
       "        vertical-align: top;\n",
       "    }\n",
       "\n",
       "    .dataframe thead th {\n",
       "        text-align: right;\n",
       "    }\n",
       "</style>\n",
       "<table border=\"1\" class=\"dataframe\">\n",
       "  <thead>\n",
       "    <tr style=\"text-align: right;\">\n",
       "      <th></th>\n",
       "      <th>Governorate</th>\n",
       "      <th>Delegation</th>\n",
       "      <th>Locality</th>\n",
       "      <th>Nature</th>\n",
       "      <th>Type of Real Estate</th>\n",
       "      <th>Surface</th>\n",
       "      <th>Price</th>\n",
       "      <th>Inserted On</th>\n",
       "    </tr>\n",
       "  </thead>\n",
       "  <tbody>\n",
       "    <tr>\n",
       "      <th>0</th>\n",
       "      <td>Tunis</td>\n",
       "      <td>Sidi El Bechir</td>\n",
       "      <td>Sidi El Bechir</td>\n",
       "      <td>Sale</td>\n",
       "      <td>2-room apartment</td>\n",
       "      <td>70.0</td>\n",
       "      <td>120000.0</td>\n",
       "      <td>06/10/2023</td>\n",
       "    </tr>\n",
       "    <tr>\n",
       "      <th>1</th>\n",
       "      <td>Tunis</td>\n",
       "      <td>La Marsa</td>\n",
       "      <td>La Marsa</td>\n",
       "      <td>Sale</td>\n",
       "      <td>3-room apartment</td>\n",
       "      <td>130.0</td>\n",
       "      <td>277000.0</td>\n",
       "      <td>23/10/2023</td>\n",
       "    </tr>\n",
       "    <tr>\n",
       "      <th>2</th>\n",
       "      <td>Ariana</td>\n",
       "      <td>Ariana Ville</td>\n",
       "      <td>Ariana Ville</td>\n",
       "      <td>Sale</td>\n",
       "      <td>2-room apartment</td>\n",
       "      <td>111.0</td>\n",
       "      <td>195000.0</td>\n",
       "      <td>09/11/2023</td>\n",
       "    </tr>\n",
       "    <tr>\n",
       "      <th>3</th>\n",
       "      <td>Tunis</td>\n",
       "      <td>Ettahrir</td>\n",
       "      <td>Ettahrir</td>\n",
       "      <td>Sale</td>\n",
       "      <td>5-room apartment and more</td>\n",
       "      <td>150.0</td>\n",
       "      <td>268000.0</td>\n",
       "      <td>13/11/2023</td>\n",
       "    </tr>\n",
       "    <tr>\n",
       "      <th>4</th>\n",
       "      <td>Tunis</td>\n",
       "      <td>La Marsa</td>\n",
       "      <td>La Marsa</td>\n",
       "      <td>Sale</td>\n",
       "      <td>3-room apartment</td>\n",
       "      <td>134.0</td>\n",
       "      <td>340000.0</td>\n",
       "      <td>08/11/2023</td>\n",
       "    </tr>\n",
       "  </tbody>\n",
       "</table>\n",
       "</div>"
      ],
      "text/plain": [
       "  Governorate      Delegation        Locality Nature  \\\n",
       "0       Tunis  Sidi El Bechir  Sidi El Bechir   Sale   \n",
       "1       Tunis        La Marsa        La Marsa   Sale   \n",
       "2      Ariana    Ariana Ville    Ariana Ville   Sale   \n",
       "3       Tunis        Ettahrir        Ettahrir   Sale   \n",
       "4       Tunis        La Marsa        La Marsa   Sale   \n",
       "\n",
       "         Type of Real Estate  Surface     Price Inserted On  \n",
       "0           2-room apartment     70.0  120000.0  06/10/2023  \n",
       "1           3-room apartment    130.0  277000.0  23/10/2023  \n",
       "2           2-room apartment    111.0  195000.0  09/11/2023  \n",
       "3  5-room apartment and more    150.0  268000.0  13/11/2023  \n",
       "4           3-room apartment    134.0  340000.0  08/11/2023  "
      ]
     },
     "execution_count": 2,
     "metadata": {},
     "output_type": "execute_result"
    }
   ],
   "source": [
    "file_path = r\"C:\\Users\\rezgu\\OneDrive\\Bureau\\Housing_pricing\\data\\raw\\tunisia-real-estate.csv\"\n",
    "df = pd.read_csv(file_path)\n",
    "df.head()"
   ]
  },
  {
   "cell_type": "markdown",
   "metadata": {},
   "source": [
    "### 2. View Current values"
   ]
  },
  {
   "cell_type": "code",
   "execution_count": 3,
   "metadata": {},
   "outputs": [
    {
     "data": {
      "text/plain": [
       "array(['Tunis', 'Ariana', 'Ben arous', 'Manouba'], dtype=object)"
      ]
     },
     "execution_count": 3,
     "metadata": {},
     "output_type": "execute_result"
    }
   ],
   "source": [
    "df['Governorate'].unique()"
   ]
  },
  {
   "cell_type": "code",
   "execution_count": 7,
   "metadata": {},
   "outputs": [
    {
     "data": {
      "text/plain": [
       "array(['Sidi El Bechir', 'La Marsa', 'Ariana Ville', 'Ettahrir',\n",
       "       'Bou Mhel El Bassatine', 'Mannouba', 'Ain Zaghouan', 'Raoued',\n",
       "       'Cite El Khadra', 'La Goulette', 'La Medina', 'La Soukra',\n",
       "       'Bab Bhar', 'Ezzahra', 'Hammam Lif', 'Ben Arous', 'Mnihla',\n",
       "       'El Menzah', 'Rades', 'Hammam Chatt', 'El Ouerdia',\n",
       "       'El Omrane Superieur', 'Le Bardo', 'El Mourouj', 'El Omrane',\n",
       "       'Bab Souika', 'El Hrairia', 'Nouvelle Medina', 'Carthage',\n",
       "       'Sidi Hassine', 'Mornaguia', 'Megrine', 'El Kram', 'Douar Hicher',\n",
       "       'Fouchana', 'Mornag', 'El Kabbaria', 'Mohamadia', 'Ettadhamen',\n",
       "       'Oued Ellil', 'Sidi Thabet', 'Tebourba', 'Jebel Jelloud'],\n",
       "      dtype=object)"
      ]
     },
     "execution_count": 7,
     "metadata": {},
     "output_type": "execute_result"
    }
   ],
   "source": [
    "df['Delegation'].unique()"
   ]
  },
  {
   "cell_type": "markdown",
   "metadata": {},
   "source": [
    "### 3. Process Cities"
   ]
  },
  {
   "cell_type": "code",
   "execution_count": 10,
   "metadata": {},
   "outputs": [],
   "source": [
    "def process_governorate(row):\n",
    "    if row['Governorate'] == 'Tunis':\n",
    "        return 'tunis'\n",
    "    elif row['Governorate'] == 'Ariana':\n",
    "        return 'ariana'\n",
    "    elif row['Governorate'] == 'Ben arous':\n",
    "        return 'ben arous'\n",
    "    elif row['Governorate'] == 'Manouba':\n",
    "        return 'manouba'"
   ]
  },
  {
   "cell_type": "code",
   "execution_count": 8,
   "metadata": {},
   "outputs": [],
   "source": [
    "def process_delegation(row):\n",
    "    delegation_mapping = {\n",
    "        'Sidi El Bechir': 'sidi el bechir',\n",
    "        'La Marsa': 'marsa',\n",
    "        'Ariana Ville': 'ariana ville',\n",
    "        'Ettahrir': 'ettahrir',\n",
    "        'Bou Mhel El Bassatine': 'boumhel el bassatine',\n",
    "        'Mannouba': 'mannouba',\n",
    "        'Ain Zaghouan': 'ain zaghouan',\n",
    "        'Raoued': 'raoued',\n",
    "        'Cite El Khadra': 'cite el khadra',\n",
    "        'La Goulette': 'la goulette',\n",
    "        'La Medina': 'medina jedida',\n",
    "        'La Soukra': 'soukra',\n",
    "        'Bab Bhar': 'bab bhar',\n",
    "        'Ezzahra': 'ezzahra',\n",
    "        'Hammam Lif': 'hammam lif',\n",
    "        'Ben Arous': 'ben arous',\n",
    "        'Mnihla': 'mnihla',\n",
    "        'El Menzah': 'menzah',\n",
    "        'Rades': 'rades',\n",
    "        'Hammam Chatt': 'hammam chott',\n",
    "        'El Ouerdia': 'ouerdia',\n",
    "        'El Omrane Superieur': 'omrane superieur',\n",
    "        'Le Bardo': 'bardo',\n",
    "        'El Mourouj': 'mourouj',\n",
    "        'El Omrane': 'omrane',\n",
    "        'Bab Souika': 'bab souika',\n",
    "        'El Hrairia': 'hrairia',\n",
    "        'Nouvelle Medina': 'medina jedida',\n",
    "        'Carthage': 'carthage',\n",
    "        'Sidi Hassine': 'sidi hassine',\n",
    "        'Mornaguia': 'mornaguia',\n",
    "        'Megrine': 'megrine',\n",
    "        'El Kram': 'kram',\n",
    "        'Douar Hicher': 'douar hicher',\n",
    "        'Fouchana': 'fouchana',\n",
    "        'Mornag': 'mornag',\n",
    "        'El Kabbaria': 'kabbaria',\n",
    "        'Mohamadia': 'mohamadia',\n",
    "        'Ettadhamen': 'ettadhamen',\n",
    "        'Oued Ellil': 'oued ellil',\n",
    "        'Sidi Thabet': 'sidi thabet',\n",
    "        'Tebourba': 'tebourba',\n",
    "        'Jebel Jelloud': 'jebel jelloud',\n",
    "    }\n",
    "\n",
    "    return delegation_mapping.get(row['Delegation'], row['Delegation'])  # Default to original if no match\n"
   ]
  },
  {
   "cell_type": "code",
   "execution_count": 11,
   "metadata": {},
   "outputs": [],
   "source": [
    "df['Governorate'] = df.apply(process_governorate, axis=1)"
   ]
  },
  {
   "cell_type": "code",
   "execution_count": 12,
   "metadata": {},
   "outputs": [],
   "source": [
    "df['Delegation']=df.apply(process_delegation, axis=1)"
   ]
  },
  {
   "cell_type": "code",
   "execution_count": 13,
   "metadata": {},
   "outputs": [
    {
     "data": {
      "text/html": [
       "<div>\n",
       "<style scoped>\n",
       "    .dataframe tbody tr th:only-of-type {\n",
       "        vertical-align: middle;\n",
       "    }\n",
       "\n",
       "    .dataframe tbody tr th {\n",
       "        vertical-align: top;\n",
       "    }\n",
       "\n",
       "    .dataframe thead th {\n",
       "        text-align: right;\n",
       "    }\n",
       "</style>\n",
       "<table border=\"1\" class=\"dataframe\">\n",
       "  <thead>\n",
       "    <tr style=\"text-align: right;\">\n",
       "      <th></th>\n",
       "      <th>Governorate</th>\n",
       "      <th>Delegation</th>\n",
       "      <th>Locality</th>\n",
       "      <th>Nature</th>\n",
       "      <th>Type of Real Estate</th>\n",
       "      <th>Surface</th>\n",
       "      <th>Price</th>\n",
       "      <th>Inserted On</th>\n",
       "    </tr>\n",
       "  </thead>\n",
       "  <tbody>\n",
       "    <tr>\n",
       "      <th>0</th>\n",
       "      <td>tunis</td>\n",
       "      <td>sidi el bechir</td>\n",
       "      <td>Sidi El Bechir</td>\n",
       "      <td>Sale</td>\n",
       "      <td>2-room apartment</td>\n",
       "      <td>70.0</td>\n",
       "      <td>120000.0</td>\n",
       "      <td>06/10/2023</td>\n",
       "    </tr>\n",
       "    <tr>\n",
       "      <th>1</th>\n",
       "      <td>tunis</td>\n",
       "      <td>marsa</td>\n",
       "      <td>La Marsa</td>\n",
       "      <td>Sale</td>\n",
       "      <td>3-room apartment</td>\n",
       "      <td>130.0</td>\n",
       "      <td>277000.0</td>\n",
       "      <td>23/10/2023</td>\n",
       "    </tr>\n",
       "    <tr>\n",
       "      <th>2</th>\n",
       "      <td>ariana</td>\n",
       "      <td>ariana ville</td>\n",
       "      <td>Ariana Ville</td>\n",
       "      <td>Sale</td>\n",
       "      <td>2-room apartment</td>\n",
       "      <td>111.0</td>\n",
       "      <td>195000.0</td>\n",
       "      <td>09/11/2023</td>\n",
       "    </tr>\n",
       "    <tr>\n",
       "      <th>3</th>\n",
       "      <td>tunis</td>\n",
       "      <td>ettahrir</td>\n",
       "      <td>Ettahrir</td>\n",
       "      <td>Sale</td>\n",
       "      <td>5-room apartment and more</td>\n",
       "      <td>150.0</td>\n",
       "      <td>268000.0</td>\n",
       "      <td>13/11/2023</td>\n",
       "    </tr>\n",
       "    <tr>\n",
       "      <th>4</th>\n",
       "      <td>tunis</td>\n",
       "      <td>marsa</td>\n",
       "      <td>La Marsa</td>\n",
       "      <td>Sale</td>\n",
       "      <td>3-room apartment</td>\n",
       "      <td>134.0</td>\n",
       "      <td>340000.0</td>\n",
       "      <td>08/11/2023</td>\n",
       "    </tr>\n",
       "  </tbody>\n",
       "</table>\n",
       "</div>"
      ],
      "text/plain": [
       "  Governorate      Delegation        Locality Nature  \\\n",
       "0       tunis  sidi el bechir  Sidi El Bechir   Sale   \n",
       "1       tunis           marsa        La Marsa   Sale   \n",
       "2      ariana    ariana ville    Ariana Ville   Sale   \n",
       "3       tunis        ettahrir        Ettahrir   Sale   \n",
       "4       tunis           marsa        La Marsa   Sale   \n",
       "\n",
       "         Type of Real Estate  Surface     Price Inserted On  \n",
       "0           2-room apartment     70.0  120000.0  06/10/2023  \n",
       "1           3-room apartment    130.0  277000.0  23/10/2023  \n",
       "2           2-room apartment    111.0  195000.0  09/11/2023  \n",
       "3  5-room apartment and more    150.0  268000.0  13/11/2023  \n",
       "4           3-room apartment    134.0  340000.0  08/11/2023  "
      ]
     },
     "execution_count": 13,
     "metadata": {},
     "output_type": "execute_result"
    }
   ],
   "source": [
    "df.head()"
   ]
  },
  {
   "cell_type": "markdown",
   "metadata": {},
   "source": [
    "### 4. Save Changes"
   ]
  },
  {
   "cell_type": "code",
   "execution_count": 14,
   "metadata": {},
   "outputs": [],
   "source": [
    "df.to_csv(file_path)"
   ]
  }
 ],
 "metadata": {
  "kernelspec": {
   "display_name": "Housing_pricing",
   "language": "python",
   "name": "python3"
  },
  "language_info": {
   "codemirror_mode": {
    "name": "ipython",
    "version": 3
   },
   "file_extension": ".py",
   "mimetype": "text/x-python",
   "name": "python",
   "nbconvert_exporter": "python",
   "pygments_lexer": "ipython3",
   "version": "3.12.7"
  }
 },
 "nbformat": 4,
 "nbformat_minor": 2
}
