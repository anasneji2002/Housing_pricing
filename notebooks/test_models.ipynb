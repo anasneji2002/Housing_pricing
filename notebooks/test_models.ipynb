{
 "cells": [
  {
   "cell_type": "markdown",
   "metadata": {},
   "source": [
    "# This Notebook includes \n",
    " - testing several regression models in order to determine which one will be used later on\n",
    " - in the process will be spliting the data into training and testing sets and looping through each model and train it and display the MSE in a graph\n",
    " - the one with the lowest MSE will be chosen as the model to train"
   ]
  },
  {
   "cell_type": "code",
   "execution_count": 1,
   "metadata": {},
   "outputs": [],
   "source": [
    "import matplotlib.pyplot as plt\n",
    "from sklearn.model_selection import train_test_split\n",
    "from sklearn.linear_model import LinearRegression, Ridge, Lasso\n",
    "from sklearn.preprocessing import PolynomialFeatures , StandardScaler\n",
    "from sklearn.metrics import root_mean_squared_error\n",
    "import pandas as pd\n",
    "from sklearn.tree import DecisionTreeRegressor\n",
    "from sklearn.ensemble import RandomForestRegressor\n",
    "import xgboost as xgb\n",
    "import lightgbm as lgb"
   ]
  },
  {
   "cell_type": "code",
   "execution_count": 2,
   "metadata": {},
   "outputs": [],
   "source": [
    "## importing file_utils \n",
    "import sys\n",
    "\n",
    "# setting path\n",
    "sys.path.append('../')\n",
    "\n",
    "from utils.file_utils.file_utils import getProcessedDataSetFilePath\n",
    "\n",
    "REPO_PATH = \"C:\\\\Users\\\\mohamedanas.neji\\\\OneDrive - Medius\\\\Desktop\\\\Housing_pricing\"\n",
    "FILENAME = \"merged.csv\"\n",
    "FILE_PATH = getProcessedDataSetFilePath(FILENAME, REPO_PATH)"
   ]
  },
  {
   "cell_type": "code",
   "execution_count": 3,
   "metadata": {},
   "outputs": [
    {
     "data": {
      "text/html": [
       "<div>\n",
       "<style scoped>\n",
       "    .dataframe tbody tr th:only-of-type {\n",
       "        vertical-align: middle;\n",
       "    }\n",
       "\n",
       "    .dataframe tbody tr th {\n",
       "        vertical-align: top;\n",
       "    }\n",
       "\n",
       "    .dataframe thead th {\n",
       "        text-align: right;\n",
       "    }\n",
       "</style>\n",
       "<table border=\"1\" class=\"dataframe\">\n",
       "  <thead>\n",
       "    <tr style=\"text-align: right;\">\n",
       "      <th></th>\n",
       "      <th>surface</th>\n",
       "      <th>city</th>\n",
       "      <th>rooms</th>\n",
       "      <th>bathrooms</th>\n",
       "      <th>parking</th>\n",
       "      <th>pool</th>\n",
       "      <th>vue_panoramique</th>\n",
       "      <th>jardin</th>\n",
       "      <th>climatisation</th>\n",
       "      <th>chauffage_central</th>\n",
       "      <th>ascenseur</th>\n",
       "      <th>price</th>\n",
       "    </tr>\n",
       "  </thead>\n",
       "  <tbody>\n",
       "    <tr>\n",
       "      <th>0</th>\n",
       "      <td>141.0</td>\n",
       "      <td>20</td>\n",
       "      <td>3.0</td>\n",
       "      <td>2.0</td>\n",
       "      <td>1.0</td>\n",
       "      <td>0.0</td>\n",
       "      <td>0.0</td>\n",
       "      <td>1.0</td>\n",
       "      <td>0.0</td>\n",
       "      <td>0.0</td>\n",
       "      <td>0.0</td>\n",
       "      <td>490000.0</td>\n",
       "    </tr>\n",
       "    <tr>\n",
       "      <th>1</th>\n",
       "      <td>100.0</td>\n",
       "      <td>20</td>\n",
       "      <td>2.0</td>\n",
       "      <td>1.0</td>\n",
       "      <td>1.0</td>\n",
       "      <td>0.0</td>\n",
       "      <td>0.0</td>\n",
       "      <td>0.0</td>\n",
       "      <td>1.0</td>\n",
       "      <td>1.0</td>\n",
       "      <td>0.0</td>\n",
       "      <td>380000.0</td>\n",
       "    </tr>\n",
       "    <tr>\n",
       "      <th>2</th>\n",
       "      <td>130.0</td>\n",
       "      <td>71</td>\n",
       "      <td>3.0</td>\n",
       "      <td>1.0</td>\n",
       "      <td>1.0</td>\n",
       "      <td>0.0</td>\n",
       "      <td>0.0</td>\n",
       "      <td>0.0</td>\n",
       "      <td>1.0</td>\n",
       "      <td>1.0</td>\n",
       "      <td>0.0</td>\n",
       "      <td>180000.0</td>\n",
       "    </tr>\n",
       "    <tr>\n",
       "      <th>3</th>\n",
       "      <td>120.0</td>\n",
       "      <td>8</td>\n",
       "      <td>2.0</td>\n",
       "      <td>1.0</td>\n",
       "      <td>0.0</td>\n",
       "      <td>0.0</td>\n",
       "      <td>0.0</td>\n",
       "      <td>0.0</td>\n",
       "      <td>0.0</td>\n",
       "      <td>0.0</td>\n",
       "      <td>0.0</td>\n",
       "      <td>240000.0</td>\n",
       "    </tr>\n",
       "    <tr>\n",
       "      <th>4</th>\n",
       "      <td>148.0</td>\n",
       "      <td>30</td>\n",
       "      <td>3.0</td>\n",
       "      <td>2.0</td>\n",
       "      <td>1.0</td>\n",
       "      <td>0.0</td>\n",
       "      <td>0.0</td>\n",
       "      <td>0.0</td>\n",
       "      <td>0.0</td>\n",
       "      <td>0.0</td>\n",
       "      <td>1.0</td>\n",
       "      <td>365000.0</td>\n",
       "    </tr>\n",
       "  </tbody>\n",
       "</table>\n",
       "</div>"
      ],
      "text/plain": [
       "   surface  city  rooms  bathrooms  parking  pool  vue_panoramique  jardin  \\\n",
       "0    141.0    20    3.0        2.0      1.0   0.0              0.0     1.0   \n",
       "1    100.0    20    2.0        1.0      1.0   0.0              0.0     0.0   \n",
       "2    130.0    71    3.0        1.0      1.0   0.0              0.0     0.0   \n",
       "3    120.0     8    2.0        1.0      0.0   0.0              0.0     0.0   \n",
       "4    148.0    30    3.0        2.0      1.0   0.0              0.0     0.0   \n",
       "\n",
       "   climatisation  chauffage_central  ascenseur     price  \n",
       "0            0.0                0.0        0.0  490000.0  \n",
       "1            1.0                1.0        0.0  380000.0  \n",
       "2            1.0                1.0        0.0  180000.0  \n",
       "3            0.0                0.0        0.0  240000.0  \n",
       "4            0.0                0.0        1.0  365000.0  "
      ]
     },
     "execution_count": 3,
     "metadata": {},
     "output_type": "execute_result"
    }
   ],
   "source": [
    "# 1 - import the data and seperate the x and y\n",
    "data = pd.read_csv(FILE_PATH)\n",
    "\n",
    "data.head()"
   ]
  },
  {
   "cell_type": "code",
   "execution_count": 5,
   "metadata": {},
   "outputs": [],
   "source": [
    "# 2 - split the data into X and Y\n",
    "X = data.drop(columns=['price'])\n",
    "Y = data['price']"
   ]
  },
  {
   "cell_type": "code",
   "execution_count": 6,
   "metadata": {},
   "outputs": [],
   "source": [
    "# Keep a copy of the original (unstandardized) data for tree-based models\n",
    "X_unscaled = X.copy()\n",
    "\n",
    "# Normalize the data\n",
    "scaler = StandardScaler()\n",
    "X = scaler.fit_transform(X)"
   ]
  },
  {
   "cell_type": "code",
   "execution_count": 7,
   "metadata": {},
   "outputs": [],
   "source": [
    "# 3 - split the data into training and testing\n",
    "X_train, X_test, Y_train, Y_test = train_test_split(X, Y, test_size=0.2, random_state=42)\n",
    "X_train_unscaled, X_test_unscaled, Y_train_unscaled, Y_test_unscaled = train_test_split(X_unscaled, Y, test_size=0.2, random_state=42)"
   ]
  },
  {
   "cell_type": "code",
   "execution_count": 8,
   "metadata": {},
   "outputs": [],
   "source": [
    "# 4 - Linear Regression\n",
    "lin_reg = LinearRegression()\n",
    "lin_reg.fit(X_train, Y_train)\n",
    "Y_pred_linear = lin_reg.predict(X_test)"
   ]
  },
  {
   "cell_type": "code",
   "execution_count": 9,
   "metadata": {},
   "outputs": [],
   "source": [
    "# 5 -Polynomial Regression (degree 2)\n",
    "poly_features = PolynomialFeatures(degree=2)\n",
    "X_train_poly = poly_features.fit_transform(X_train)\n",
    "X_test_poly = poly_features.transform(X_test)\n",
    "\n",
    "poly_reg = LinearRegression()\n",
    "poly_reg.fit(X_train_poly, Y_train)\n",
    "Y_pred_poly = poly_reg.predict(X_test_poly)"
   ]
  },
  {
   "cell_type": "code",
   "execution_count": 10,
   "metadata": {},
   "outputs": [],
   "source": [
    "# 6 - Ridge and Lasso Regression\n",
    "ridge_reg = Ridge(alpha=1.0)\n",
    "ridge_reg.fit(X_train, Y_train)\n",
    "Y_pred_ridge = ridge_reg.predict(X_test)\n",
    "\n",
    "lasso_reg = Lasso(alpha=0.1)\n",
    "lasso_reg.fit(X_train, Y_train)\n",
    "Y_pred_lasso = lasso_reg.predict(X_test)"
   ]
  },
  {
   "cell_type": "code",
   "execution_count": 11,
   "metadata": {},
   "outputs": [],
   "source": [
    "# 7 - Decision Tree Regression (using unscaled data)\n",
    "decision_tree = DecisionTreeRegressor(random_state=42)\n",
    "decision_tree.fit(X_train_unscaled, Y_train_unscaled)\n",
    "Y_pred_tree = decision_tree.predict(X_test_unscaled)"
   ]
  },
  {
   "cell_type": "code",
   "execution_count": 12,
   "metadata": {},
   "outputs": [
    {
     "name": "stderr",
     "output_type": "stream",
     "text": [
      "C:\\Users\\mohamedanas.neji\\AppData\\Local\\Temp\\ipykernel_21304\\1167852276.py:3: FutureWarning: Series.ravel is deprecated. The underlying array is already 1D, so ravel is not necessary.  Use `to_numpy()` for conversion to a numpy array instead.\n",
      "  random_forest.fit(X_train_unscaled, Y_train_unscaled.ravel())\n"
     ]
    }
   ],
   "source": [
    "# 8 - Random Forest Regression (using unscaled data)\n",
    "random_forest = RandomForestRegressor(n_estimators=100, random_state=42)\n",
    "random_forest.fit(X_train_unscaled, Y_train_unscaled.ravel())\n",
    "Y_pred_forest = random_forest.predict(X_test_unscaled)"
   ]
  },
  {
   "cell_type": "code",
   "execution_count": 13,
   "metadata": {},
   "outputs": [
    {
     "name": "stderr",
     "output_type": "stream",
     "text": [
      "C:\\Users\\mohamedanas.neji\\AppData\\Local\\Temp\\ipykernel_21304\\1116651106.py:3: FutureWarning: Series.ravel is deprecated. The underlying array is already 1D, so ravel is not necessary.  Use `to_numpy()` for conversion to a numpy array instead.\n",
      "  xgb_reg.fit(X_train, Y_train.ravel())\n"
     ]
    }
   ],
   "source": [
    "# 9 - XGBoost Regression\n",
    "xgb_reg = xgb.XGBRegressor(objective='reg:squarederror', random_state=42)\n",
    "xgb_reg.fit(X_train, Y_train.ravel())\n",
    "Y_pred_xgb = xgb_reg.predict(X_test)"
   ]
  },
  {
   "cell_type": "code",
   "execution_count": 14,
   "metadata": {},
   "outputs": [
    {
     "name": "stderr",
     "output_type": "stream",
     "text": [
      "C:\\Users\\mohamedanas.neji\\AppData\\Local\\Temp\\ipykernel_21304\\776998489.py:3: FutureWarning: Series.ravel is deprecated. The underlying array is already 1D, so ravel is not necessary.  Use `to_numpy()` for conversion to a numpy array instead.\n",
      "  lgb_reg.fit(X_train, Y_train.ravel())\n",
      "c:\\Users\\mohamedanas.neji\\AppData\\Local\\anaconda3\\envs\\Housing_pricing\\Lib\\site-packages\\sklearn\\utils\\deprecation.py:151: FutureWarning: 'force_all_finite' was renamed to 'ensure_all_finite' in 1.6 and will be removed in 1.8.\n",
      "  warnings.warn(\n"
     ]
    },
    {
     "name": "stdout",
     "output_type": "stream",
     "text": [
      "[LightGBM] [Info] Auto-choosing row-wise multi-threading, the overhead of testing was 0.000283 seconds.\n",
      "You can set `force_row_wise=true` to remove the overhead.\n",
      "And if memory is not enough, you can set `force_col_wise=true`.\n",
      "[LightGBM] [Info] Total Bins 370\n",
      "[LightGBM] [Info] Number of data points in the train set: 4251, number of used features: 11\n",
      "[LightGBM] [Info] Start training from score 370964.218066\n"
     ]
    },
    {
     "name": "stderr",
     "output_type": "stream",
     "text": [
      "c:\\Users\\mohamedanas.neji\\AppData\\Local\\anaconda3\\envs\\Housing_pricing\\Lib\\site-packages\\sklearn\\utils\\deprecation.py:151: FutureWarning: 'force_all_finite' was renamed to 'ensure_all_finite' in 1.6 and will be removed in 1.8.\n",
      "  warnings.warn(\n"
     ]
    }
   ],
   "source": [
    "# 10 - LightGBM Regression\n",
    "lgb_reg = lgb.LGBMRegressor(random_state=42)\n",
    "lgb_reg.fit(X_train, Y_train.ravel())\n",
    "Y_pred_lgb = lgb_reg.predict(X_test)"
   ]
  },
  {
   "cell_type": "code",
   "execution_count": null,
   "metadata": {},
   "outputs": [
    {
     "name": "stdout",
     "output_type": "stream",
     "text": [
      "Linear Regression MSE: 166816.95537326226\n",
      "Polynomial Regression MSE: 169604.70300844108\n",
      "Ridge Regression MSE: 166816.94262112162\n",
      "Lasso Regression MSE: 166816.9520951817\n",
      "Decision Tree MSE: 471405.8515343675\n",
      "Random Forest MSE: 194365.0796199137\n",
      "XGBoost MSE: 317591.5320908364\n",
      "LightGBM MSE: 166597.55002251506\n"
     ]
    }
   ],
   "source": [
    "# 11 - Evaluate models\n",
    "mse_values = {\n",
    "    \"Linear Regression\": root_mean_squared_error(Y_test, Y_pred_linear),\n",
    "    \"Polynomial Regression\": root_mean_squared_error(Y_test, Y_pred_poly),\n",
    "    \"Ridge Regression\": root_mean_squared_error(Y_test, Y_pred_ridge),\n",
    "    \"Lasso Regression\": root_mean_squared_error(Y_test, Y_pred_lasso),\n",
    "    \"Decision Tree\": root_mean_squared_error(Y_test_unscaled, Y_pred_tree),\n",
    "    \"Random Forest\": root_mean_squared_error(Y_test_unscaled, Y_pred_forest),\n",
    "    \"XGBoost\": root_mean_squared_error(Y_test, Y_pred_xgb),\n",
    "    \"LightGBM\": root_mean_squared_error(Y_test, Y_pred_lgb)\n",
    "}\n",
    "\n",
    "for model, mse in mse_values.items():\n",
    "    print(f\"{model} MSE: {mse}\")"
   ]
  },
  {
   "cell_type": "code",
   "execution_count": 16,
   "metadata": {},
   "outputs": [
    {
     "data": {
      "image/png": "[encoded data removed]",
      "text/plain": [
       "<Figure size 1000x600 with 1 Axes>"
      ]
     },
     "metadata": {},
     "output_type": "display_data"
    }
   ],
   "source": [
    "# 12 - Plot results\n",
    "plt.figure(figsize=(10, 6))\n",
    "plt.bar(mse_values.keys(), mse_values.values(), color=['red', 'blue', 'green', 'purple', 'orange', 'cyan', 'brown', 'pink'])\n",
    "plt.xlabel(\"Regression Models\")\n",
    "plt.ylabel(\"Mean Squared Error (MSE)\")\n",
    "plt.title(\"Comparison of Regression Models Based on MSE\")\n",
    "plt.xticks(rotation=45)\n",
    "plt.show()"
   ]
  },
  {
   "cell_type": "code",
   "execution_count": 19,
   "metadata": {},
   "outputs": [
    {
     "name": "stdout",
     "output_type": "stream",
     "text": [
      "The best model is: LightGBM with a MSE of 166597.55002251506\n"
     ]
    }
   ],
   "source": [
    "# 13 - Print the best model\n",
    "best_model = min(mse_values, key=mse_values.get)\n",
    "print(f\"The best model is: {best_model} with a MSE of {mse_values[best_model]}\")"
   ]
  }
 ],
 "metadata": {
  "kernelspec": {
   "display_name": "Housing_pricing",
   "language": "python",
   "name": "python3"
  },
  "language_info": {
   "codemirror_mode": {
    "name": "ipython",
    "version": 3
   },
   "file_extension": ".py",
   "mimetype": "text/x-python",
   "name": "python",
   "nbconvert_exporter": "python",
   "pygments_lexer": "ipython3",
   "version": "3.12.9"
  }
 },
 "nbformat": 4,
 "nbformat_minor": 2
}
