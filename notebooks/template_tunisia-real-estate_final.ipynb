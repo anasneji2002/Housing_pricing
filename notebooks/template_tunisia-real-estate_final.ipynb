{
 "cells": [
  {
   "cell_type": "code",
   "execution_count": 19,
   "id": "e7500d17-8b9b-40fe-b823-b2740240296b",
   "metadata": {},
   "outputs": [],
   "source": [
    "import pandas as pd"
   ]
  },
  {
   "cell_type": "code",
   "execution_count": 20,
   "id": "0c54ea2b-aa9b-4c28-b5f6-5a8076b3e86a",
   "metadata": {},
   "outputs": [],
   "source": [
    "df = pd.read_csv(\"../data/raw/tunisia-real-estate_final.csv\")"
   ]
  },
  {
   "cell_type": "code",
   "execution_count": 22,
   "id": "35717353-60ab-4eaa-a8e8-866861295b61",
   "metadata": {},
   "outputs": [],
   "source": [
    "df.rename(columns={\"Delegation\": \"city\"}, inplace=True)\n"
   ]
  },
  {
   "cell_type": "code",
   "execution_count": 23,
   "id": "93a4aadc-bddc-4435-a157-7fab2ea33c73",
   "metadata": {},
   "outputs": [],
   "source": [
    "df.rename(columns={\"Price\": \"price\", \"Surface\": \"surface\"}, inplace=True)\n"
   ]
  },
  {
   "cell_type": "code",
   "execution_count": 24,
   "id": "916c7007-0e40-4196-9bfa-62463f0e96c4",
   "metadata": {},
   "outputs": [],
   "source": [
    "required_columns = [\n",
    "    \"surface\", \"city\", \"rooms\", \"bathrooms\", \"parking\", \"pool\", \n",
    "    \"vue_panoramique\", \"jardin\", \"climatisation\", \"chauffage_central\", \n",
    "    \"ascenseur\", \"price\"\n",
    "]\n",
    "\n",
    "# Add missing columns with empty values\n",
    "for col in required_columns:\n",
    "    if col not in df.columns:\n",
    "        df[col] = None  \n",
    "\n",
    "df = df[required_columns]  # Reorder the columns\n"
   ]
  },
  {
   "cell_type": "code",
   "execution_count": 25,
   "id": "c8efa10c-dab1-4ea4-91e2-4fd5db9ff8af",
   "metadata": {},
   "outputs": [],
   "source": [
    "df.to_csv(\"../data/raw/tunisia-real-estate_final.csv\", index=False)\n"
   ]
  },
  {
   "cell_type": "code",
   "execution_count": 26,
   "id": "e35378e9-444c-4646-809b-fc04bf70a78b",
   "metadata": {},
   "outputs": [
    {
     "data": {
      "text/html": [
       "<div>\n",
       "<style scoped>\n",
       "    .dataframe tbody tr th:only-of-type {\n",
       "        vertical-align: middle;\n",
       "    }\n",
       "\n",
       "    .dataframe tbody tr th {\n",
       "        vertical-align: top;\n",
       "    }\n",
       "\n",
       "    .dataframe thead th {\n",
       "        text-align: right;\n",
       "    }\n",
       "</style>\n",
       "<table border=\"1\" class=\"dataframe\">\n",
       "  <thead>\n",
       "    <tr style=\"text-align: right;\">\n",
       "      <th></th>\n",
       "      <th>surface</th>\n",
       "      <th>city</th>\n",
       "      <th>rooms</th>\n",
       "      <th>bathrooms</th>\n",
       "      <th>parking</th>\n",
       "      <th>pool</th>\n",
       "      <th>vue_panoramique</th>\n",
       "      <th>jardin</th>\n",
       "      <th>climatisation</th>\n",
       "      <th>chauffage_central</th>\n",
       "      <th>ascenseur</th>\n",
       "      <th>price</th>\n",
       "    </tr>\n",
       "  </thead>\n",
       "  <tbody>\n",
       "    <tr>\n",
       "      <th>0</th>\n",
       "      <td>70.0</td>\n",
       "      <td>82</td>\n",
       "      <td>2.0</td>\n",
       "      <td>1</td>\n",
       "      <td>None</td>\n",
       "      <td>None</td>\n",
       "      <td>None</td>\n",
       "      <td>None</td>\n",
       "      <td>None</td>\n",
       "      <td>None</td>\n",
       "      <td>None</td>\n",
       "      <td>120000.0</td>\n",
       "    </tr>\n",
       "    <tr>\n",
       "      <th>1</th>\n",
       "      <td>130.0</td>\n",
       "      <td>12</td>\n",
       "      <td>3.0</td>\n",
       "      <td>2</td>\n",
       "      <td>None</td>\n",
       "      <td>None</td>\n",
       "      <td>None</td>\n",
       "      <td>None</td>\n",
       "      <td>None</td>\n",
       "      <td>None</td>\n",
       "      <td>None</td>\n",
       "      <td>277000.0</td>\n",
       "    </tr>\n",
       "    <tr>\n",
       "      <th>2</th>\n",
       "      <td>111.0</td>\n",
       "      <td>28</td>\n",
       "      <td>2.0</td>\n",
       "      <td>2</td>\n",
       "      <td>None</td>\n",
       "      <td>None</td>\n",
       "      <td>None</td>\n",
       "      <td>None</td>\n",
       "      <td>None</td>\n",
       "      <td>None</td>\n",
       "      <td>None</td>\n",
       "      <td>195000.0</td>\n",
       "    </tr>\n",
       "    <tr>\n",
       "      <th>3</th>\n",
       "      <td>150.0</td>\n",
       "      <td>77</td>\n",
       "      <td>3.0</td>\n",
       "      <td>3</td>\n",
       "      <td>None</td>\n",
       "      <td>None</td>\n",
       "      <td>None</td>\n",
       "      <td>None</td>\n",
       "      <td>None</td>\n",
       "      <td>None</td>\n",
       "      <td>None</td>\n",
       "      <td>268000.0</td>\n",
       "    </tr>\n",
       "    <tr>\n",
       "      <th>4</th>\n",
       "      <td>134.0</td>\n",
       "      <td>12</td>\n",
       "      <td>3.0</td>\n",
       "      <td>2</td>\n",
       "      <td>None</td>\n",
       "      <td>None</td>\n",
       "      <td>None</td>\n",
       "      <td>None</td>\n",
       "      <td>None</td>\n",
       "      <td>None</td>\n",
       "      <td>None</td>\n",
       "      <td>340000.0</td>\n",
       "    </tr>\n",
       "  </tbody>\n",
       "</table>\n",
       "</div>"
      ],
      "text/plain": [
       "   surface  city  rooms  bathrooms parking  pool vue_panoramique jardin  \\\n",
       "0     70.0    82    2.0          1    None  None            None   None   \n",
       "1    130.0    12    3.0          2    None  None            None   None   \n",
       "2    111.0    28    2.0          2    None  None            None   None   \n",
       "3    150.0    77    3.0          3    None  None            None   None   \n",
       "4    134.0    12    3.0          2    None  None            None   None   \n",
       "\n",
       "  climatisation chauffage_central ascenseur     price  \n",
       "0          None              None      None  120000.0  \n",
       "1          None              None      None  277000.0  \n",
       "2          None              None      None  195000.0  \n",
       "3          None              None      None  268000.0  \n",
       "4          None              None      None  340000.0  "
      ]
     },
     "execution_count": 26,
     "metadata": {},
     "output_type": "execute_result"
    }
   ],
   "source": [
    "df.head()\n"
   ]
  },
  {
   "cell_type": "code",
   "execution_count": null,
   "id": "0295836f-1b72-40e2-8d3f-9986a1a07adb",
   "metadata": {},
   "outputs": [],
   "source": []
  }
 ],
 "metadata": {
  "kernelspec": {
   "display_name": "Python 3 (ipykernel)",
   "language": "python",
   "name": "python3"
  },
  "language_info": {
   "codemirror_mode": {
    "name": "ipython",
    "version": 3
   },
   "file_extension": ".py",
   "mimetype": "text/x-python",
   "name": "python",
   "nbconvert_exporter": "python",
   "pygments_lexer": "ipython3",
   "version": "3.12.9"
  }
 },
 "nbformat": 4,
 "nbformat_minor": 5
}
